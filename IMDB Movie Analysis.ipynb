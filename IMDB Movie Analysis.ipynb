{
 "cells": [
  {
   "cell_type": "code",
   "execution_count": 76,
   "id": "d19d06c8-3ac6-465b-be19-e47bf7d2ca57",
   "metadata": {},
   "outputs": [],
   "source": [
    "#importing the necessary libraries\n",
    "import pandas as pd\n",
    "import numpy as np\n",
    "import matplotlib.pyplot as plt\n",
    "import seaborn as sns"
   ]
  },
  {
   "cell_type": "code",
   "execution_count": 77,
   "id": "0c3b3fc7-4a4c-4cd1-92e6-f1135e2b27ae",
   "metadata": {},
   "outputs": [
    {
     "data": {
      "text/html": [
       "<div>\n",
       "<style scoped>\n",
       "    .dataframe tbody tr th:only-of-type {\n",
       "        vertical-align: middle;\n",
       "    }\n",
       "\n",
       "    .dataframe tbody tr th {\n",
       "        vertical-align: top;\n",
       "    }\n",
       "\n",
       "    .dataframe thead th {\n",
       "        text-align: right;\n",
       "    }\n",
       "</style>\n",
       "<table border=\"1\" class=\"dataframe\">\n",
       "  <thead>\n",
       "    <tr style=\"text-align: right;\">\n",
       "      <th></th>\n",
       "      <th>Poster_Link</th>\n",
       "      <th>Series_Title</th>\n",
       "      <th>Released_Year</th>\n",
       "      <th>Certificate</th>\n",
       "      <th>Runtime</th>\n",
       "      <th>Genre</th>\n",
       "      <th>IMDB_Rating</th>\n",
       "      <th>Overview</th>\n",
       "      <th>Meta_score</th>\n",
       "      <th>Director</th>\n",
       "      <th>Star1</th>\n",
       "      <th>Star2</th>\n",
       "      <th>Star3</th>\n",
       "      <th>Star4</th>\n",
       "      <th>No_of_Votes</th>\n",
       "      <th>Gross</th>\n",
       "    </tr>\n",
       "  </thead>\n",
       "  <tbody>\n",
       "    <tr>\n",
       "      <th>0</th>\n",
       "      <td>https://m.media-amazon.com/images/M/MV5BMDFkYT...</td>\n",
       "      <td>The Shawshank Redemption</td>\n",
       "      <td>1994</td>\n",
       "      <td>A</td>\n",
       "      <td>142 min</td>\n",
       "      <td>Drama</td>\n",
       "      <td>9.3</td>\n",
       "      <td>Two imprisoned men bond over a number of years...</td>\n",
       "      <td>80.0</td>\n",
       "      <td>Frank Darabont</td>\n",
       "      <td>Tim Robbins</td>\n",
       "      <td>Morgan Freeman</td>\n",
       "      <td>Bob Gunton</td>\n",
       "      <td>William Sadler</td>\n",
       "      <td>2343110</td>\n",
       "      <td>28,341,469</td>\n",
       "    </tr>\n",
       "    <tr>\n",
       "      <th>1</th>\n",
       "      <td>https://m.media-amazon.com/images/M/MV5BM2MyNj...</td>\n",
       "      <td>The Godfather</td>\n",
       "      <td>1972</td>\n",
       "      <td>A</td>\n",
       "      <td>175 min</td>\n",
       "      <td>Crime, Drama</td>\n",
       "      <td>9.2</td>\n",
       "      <td>An organized crime dynasty's aging patriarch t...</td>\n",
       "      <td>100.0</td>\n",
       "      <td>Francis Ford Coppola</td>\n",
       "      <td>Marlon Brando</td>\n",
       "      <td>Al Pacino</td>\n",
       "      <td>James Caan</td>\n",
       "      <td>Diane Keaton</td>\n",
       "      <td>1620367</td>\n",
       "      <td>134,966,411</td>\n",
       "    </tr>\n",
       "    <tr>\n",
       "      <th>2</th>\n",
       "      <td>https://m.media-amazon.com/images/M/MV5BMTMxNT...</td>\n",
       "      <td>The Dark Knight</td>\n",
       "      <td>2008</td>\n",
       "      <td>UA</td>\n",
       "      <td>152 min</td>\n",
       "      <td>Action, Crime, Drama</td>\n",
       "      <td>9.0</td>\n",
       "      <td>When the menace known as the Joker wreaks havo...</td>\n",
       "      <td>84.0</td>\n",
       "      <td>Christopher Nolan</td>\n",
       "      <td>Christian Bale</td>\n",
       "      <td>Heath Ledger</td>\n",
       "      <td>Aaron Eckhart</td>\n",
       "      <td>Michael Caine</td>\n",
       "      <td>2303232</td>\n",
       "      <td>534,858,444</td>\n",
       "    </tr>\n",
       "    <tr>\n",
       "      <th>3</th>\n",
       "      <td>https://m.media-amazon.com/images/M/MV5BMWMwMG...</td>\n",
       "      <td>The Godfather: Part II</td>\n",
       "      <td>1974</td>\n",
       "      <td>A</td>\n",
       "      <td>202 min</td>\n",
       "      <td>Crime, Drama</td>\n",
       "      <td>9.0</td>\n",
       "      <td>The early life and career of Vito Corleone in ...</td>\n",
       "      <td>90.0</td>\n",
       "      <td>Francis Ford Coppola</td>\n",
       "      <td>Al Pacino</td>\n",
       "      <td>Robert De Niro</td>\n",
       "      <td>Robert Duvall</td>\n",
       "      <td>Diane Keaton</td>\n",
       "      <td>1129952</td>\n",
       "      <td>57,300,000</td>\n",
       "    </tr>\n",
       "    <tr>\n",
       "      <th>4</th>\n",
       "      <td>https://m.media-amazon.com/images/M/MV5BMWU4N2...</td>\n",
       "      <td>12 Angry Men</td>\n",
       "      <td>1957</td>\n",
       "      <td>U</td>\n",
       "      <td>96 min</td>\n",
       "      <td>Crime, Drama</td>\n",
       "      <td>9.0</td>\n",
       "      <td>A jury holdout attempts to prevent a miscarria...</td>\n",
       "      <td>96.0</td>\n",
       "      <td>Sidney Lumet</td>\n",
       "      <td>Henry Fonda</td>\n",
       "      <td>Lee J. Cobb</td>\n",
       "      <td>Martin Balsam</td>\n",
       "      <td>John Fiedler</td>\n",
       "      <td>689845</td>\n",
       "      <td>4,360,000</td>\n",
       "    </tr>\n",
       "  </tbody>\n",
       "</table>\n",
       "</div>"
      ],
      "text/plain": [
       "                                         Poster_Link  \\\n",
       "0  https://m.media-amazon.com/images/M/MV5BMDFkYT...   \n",
       "1  https://m.media-amazon.com/images/M/MV5BM2MyNj...   \n",
       "2  https://m.media-amazon.com/images/M/MV5BMTMxNT...   \n",
       "3  https://m.media-amazon.com/images/M/MV5BMWMwMG...   \n",
       "4  https://m.media-amazon.com/images/M/MV5BMWU4N2...   \n",
       "\n",
       "               Series_Title Released_Year Certificate  Runtime  \\\n",
       "0  The Shawshank Redemption          1994           A  142 min   \n",
       "1             The Godfather          1972           A  175 min   \n",
       "2           The Dark Knight          2008          UA  152 min   \n",
       "3    The Godfather: Part II          1974           A  202 min   \n",
       "4              12 Angry Men          1957           U   96 min   \n",
       "\n",
       "                  Genre  IMDB_Rating  \\\n",
       "0                 Drama          9.3   \n",
       "1          Crime, Drama          9.2   \n",
       "2  Action, Crime, Drama          9.0   \n",
       "3          Crime, Drama          9.0   \n",
       "4          Crime, Drama          9.0   \n",
       "\n",
       "                                            Overview  Meta_score  \\\n",
       "0  Two imprisoned men bond over a number of years...        80.0   \n",
       "1  An organized crime dynasty's aging patriarch t...       100.0   \n",
       "2  When the menace known as the Joker wreaks havo...        84.0   \n",
       "3  The early life and career of Vito Corleone in ...        90.0   \n",
       "4  A jury holdout attempts to prevent a miscarria...        96.0   \n",
       "\n",
       "               Director           Star1           Star2          Star3  \\\n",
       "0        Frank Darabont     Tim Robbins  Morgan Freeman     Bob Gunton   \n",
       "1  Francis Ford Coppola   Marlon Brando       Al Pacino     James Caan   \n",
       "2     Christopher Nolan  Christian Bale    Heath Ledger  Aaron Eckhart   \n",
       "3  Francis Ford Coppola       Al Pacino  Robert De Niro  Robert Duvall   \n",
       "4          Sidney Lumet     Henry Fonda     Lee J. Cobb  Martin Balsam   \n",
       "\n",
       "            Star4  No_of_Votes        Gross  \n",
       "0  William Sadler      2343110   28,341,469  \n",
       "1    Diane Keaton      1620367  134,966,411  \n",
       "2   Michael Caine      2303232  534,858,444  \n",
       "3    Diane Keaton      1129952   57,300,000  \n",
       "4    John Fiedler       689845    4,360,000  "
      ]
     },
     "execution_count": 77,
     "metadata": {},
     "output_type": "execute_result"
    }
   ],
   "source": [
    "#reading in our dataset\n",
    "df = pd.read_csv(\"C:/Users/Administrator/Downloads/imdb_top_1000.csv\")\n",
    "df.head(5)"
   ]
  },
  {
   "cell_type": "code",
   "execution_count": 78,
   "id": "6f7219ee-dd1e-4153-b7a1-051c6059c37b",
   "metadata": {},
   "outputs": [
    {
     "data": {
      "text/plain": [
       "Poster_Link       object\n",
       "Series_Title      object\n",
       "Released_Year     object\n",
       "Certificate       object\n",
       "Runtime           object\n",
       "Genre             object\n",
       "IMDB_Rating      float64\n",
       "Overview          object\n",
       "Meta_score       float64\n",
       "Director          object\n",
       "Star1             object\n",
       "Star2             object\n",
       "Star3             object\n",
       "Star4             object\n",
       "No_of_Votes        int64\n",
       "Gross             object\n",
       "dtype: object"
      ]
     },
     "execution_count": 78,
     "metadata": {},
     "output_type": "execute_result"
    }
   ],
   "source": [
    "#Data types\n",
    "df.dtypes"
   ]
  },
  {
   "cell_type": "code",
   "execution_count": 79,
   "id": "70178aaa-9d02-45c0-b9b6-36eac5b7a6e0",
   "metadata": {},
   "outputs": [
    {
     "data": {
      "text/html": [
       "<div>\n",
       "<style scoped>\n",
       "    .dataframe tbody tr th:only-of-type {\n",
       "        vertical-align: middle;\n",
       "    }\n",
       "\n",
       "    .dataframe tbody tr th {\n",
       "        vertical-align: top;\n",
       "    }\n",
       "\n",
       "    .dataframe thead th {\n",
       "        text-align: right;\n",
       "    }\n",
       "</style>\n",
       "<table border=\"1\" class=\"dataframe\">\n",
       "  <thead>\n",
       "    <tr style=\"text-align: right;\">\n",
       "      <th></th>\n",
       "      <th>count</th>\n",
       "      <th>mean</th>\n",
       "      <th>std</th>\n",
       "      <th>min</th>\n",
       "      <th>25%</th>\n",
       "      <th>50%</th>\n",
       "      <th>75%</th>\n",
       "      <th>max</th>\n",
       "    </tr>\n",
       "  </thead>\n",
       "  <tbody>\n",
       "    <tr>\n",
       "      <th>IMDB_Rating</th>\n",
       "      <td>1000.0</td>\n",
       "      <td>7.94930</td>\n",
       "      <td>0.275491</td>\n",
       "      <td>7.6</td>\n",
       "      <td>7.70</td>\n",
       "      <td>7.9</td>\n",
       "      <td>8.10</td>\n",
       "      <td>9.3</td>\n",
       "    </tr>\n",
       "    <tr>\n",
       "      <th>Meta_score</th>\n",
       "      <td>843.0</td>\n",
       "      <td>77.97153</td>\n",
       "      <td>12.376099</td>\n",
       "      <td>28.0</td>\n",
       "      <td>70.00</td>\n",
       "      <td>79.0</td>\n",
       "      <td>87.00</td>\n",
       "      <td>100.0</td>\n",
       "    </tr>\n",
       "    <tr>\n",
       "      <th>No_of_Votes</th>\n",
       "      <td>1000.0</td>\n",
       "      <td>273692.91100</td>\n",
       "      <td>327372.703934</td>\n",
       "      <td>25088.0</td>\n",
       "      <td>55526.25</td>\n",
       "      <td>138548.5</td>\n",
       "      <td>374161.25</td>\n",
       "      <td>2343110.0</td>\n",
       "    </tr>\n",
       "  </tbody>\n",
       "</table>\n",
       "</div>"
      ],
      "text/plain": [
       "              count          mean            std      min       25%       50%  \\\n",
       "IMDB_Rating  1000.0       7.94930       0.275491      7.6      7.70       7.9   \n",
       "Meta_score    843.0      77.97153      12.376099     28.0     70.00      79.0   \n",
       "No_of_Votes  1000.0  273692.91100  327372.703934  25088.0  55526.25  138548.5   \n",
       "\n",
       "                   75%        max  \n",
       "IMDB_Rating       8.10        9.3  \n",
       "Meta_score       87.00      100.0  \n",
       "No_of_Votes  374161.25  2343110.0  "
      ]
     },
     "execution_count": 79,
     "metadata": {},
     "output_type": "execute_result"
    }
   ],
   "source": [
    "#Summary statistics\n",
    "df.describe().T"
   ]
  },
  {
   "cell_type": "code",
   "execution_count": 80,
   "id": "08f231d7-cdc8-40ab-b776-0bb5f976abcc",
   "metadata": {},
   "outputs": [
    {
     "data": {
      "text/plain": [
       "Poster_Link        0\n",
       "Series_Title       0\n",
       "Released_Year      0\n",
       "Certificate      101\n",
       "Runtime            0\n",
       "Genre              0\n",
       "IMDB_Rating        0\n",
       "Overview           0\n",
       "Meta_score       157\n",
       "Director           0\n",
       "Star1              0\n",
       "Star2              0\n",
       "Star3              0\n",
       "Star4              0\n",
       "No_of_Votes        0\n",
       "Gross            169\n",
       "dtype: int64"
      ]
     },
     "execution_count": 80,
     "metadata": {},
     "output_type": "execute_result"
    }
   ],
   "source": [
    "#checking for the missing values in our dataset\n",
    "df.isnull().sum()"
   ]
  },
  {
   "cell_type": "code",
   "execution_count": 81,
   "id": "8453bc87-7870-4704-a78f-955c9db9a919",
   "metadata": {},
   "outputs": [
    {
     "data": {
      "text/plain": [
       "(1000, 16)"
      ]
     },
     "execution_count": 81,
     "metadata": {},
     "output_type": "execute_result"
    }
   ],
   "source": [
    "#Count rows\n",
    "row_count = df.shape\n",
    "row_count"
   ]
  },
  {
   "cell_type": "code",
   "execution_count": 82,
   "id": "65ce9535-7bbd-484e-bf1e-ad5e5122dd28",
   "metadata": {},
   "outputs": [
    {
     "name": "stdout",
     "output_type": "stream",
     "text": [
      "\n",
      "Unique values in the column Certificate: ['A' 'UA' 'U' 'PG-13' 'R' nan 'PG' 'G' 'Passed' 'TV-14' '16' 'TV-MA'\n",
      " 'Unrated' 'GP' 'Approved' 'TV-PG' 'U/A']\n"
     ]
    }
   ],
   "source": [
    "#Unique values in the column 'Certificate'\n",
    "unique_values = df[\"Certificate\"].unique()\n",
    "print(f'\\nUnique values in the column {\"Certificate\"}: {unique_values}')"
   ]
  },
  {
   "cell_type": "code",
   "execution_count": 83,
   "id": "bedf4297-e03e-4f53-946b-11ec83b552fd",
   "metadata": {},
   "outputs": [
    {
     "data": {
      "text/plain": [
       "Index(['Poster_Link', 'Series_Title', 'Released_Year', 'Certificate',\n",
       "       'Runtime', 'Genre', 'IMDB_Rating', 'Overview', 'Meta_score', 'Director',\n",
       "       'Star1', 'Star2', 'Star3', 'Star4', 'No_of_Votes', 'Gross'],\n",
       "      dtype='object')"
      ]
     },
     "execution_count": 83,
     "metadata": {},
     "output_type": "execute_result"
    }
   ],
   "source": [
    "df.columns"
   ]
  },
  {
   "cell_type": "code",
   "execution_count": 84,
   "id": "8126a5e3-5ef8-47cf-94ae-5a033521f501",
   "metadata": {},
   "outputs": [],
   "source": [
    "df['Certificate'].bfill(inplace=True)"
   ]
  },
  {
   "cell_type": "code",
   "execution_count": 85,
   "id": "69fc0b6d-d0e7-48b1-abb6-0b97ba1e470f",
   "metadata": {},
   "outputs": [
    {
     "data": {
      "text/plain": [
       "2"
      ]
     },
     "execution_count": 85,
     "metadata": {},
     "output_type": "execute_result"
    }
   ],
   "source": [
    "#Checking if we still have missing values in the column 'Certificate'\n",
    "data_after_imputation = df[\"Certificate\"].isna().sum()\n",
    "data_after_imputation"
   ]
  },
  {
   "cell_type": "code",
   "execution_count": 86,
   "id": "e308671e-561c-4200-8127-57bde578dad2",
   "metadata": {},
   "outputs": [],
   "source": [
    "df['Certificate'].ffill(inplace=True)"
   ]
  },
  {
   "cell_type": "code",
   "execution_count": 87,
   "id": "ee94bb94-65d8-4d20-b3b9-1ac6a3dd218b",
   "metadata": {},
   "outputs": [
    {
     "data": {
      "text/plain": [
       "0"
      ]
     },
     "execution_count": 87,
     "metadata": {},
     "output_type": "execute_result"
    }
   ],
   "source": [
    "data_after_imputation = df[\"Certificate\"].isna().sum()\n",
    "data_after_imputation"
   ]
  },
  {
   "cell_type": "code",
   "execution_count": 88,
   "id": "6230877b-5811-4e94-a4ea-9fc35e5e59fa",
   "metadata": {},
   "outputs": [
    {
     "name": "stdout",
     "output_type": "stream",
     "text": [
      "Median value of \"Meta_score\" column: 79.0\n"
     ]
    }
   ],
   "source": [
    "#For the missing values in the column 'Meta_score', we will fill using median\n",
    "median_value = df[\"Meta_score\"].median()\n",
    "print(f'Median value of \"Meta_score\" column: {median_value}')\n",
    "\n",
    "# Fill missing values\n",
    "df[\"Meta_score\"].fillna(median_value, inplace=True)"
   ]
  },
  {
   "cell_type": "code",
   "execution_count": 89,
   "id": "ca0b1ad5-59c9-40b9-a8ad-52d45062de99",
   "metadata": {},
   "outputs": [
    {
     "data": {
      "text/plain": [
       "0"
      ]
     },
     "execution_count": 89,
     "metadata": {},
     "output_type": "execute_result"
    }
   ],
   "source": [
    "#Verifying the imputation\n",
    "missing_values_after_imputation = df[\"Meta_score\"].isna().sum()\n",
    "missing_values_after_imputation"
   ]
  },
  {
   "cell_type": "code",
   "execution_count": 90,
   "id": "1e6a9474-c91f-4ccd-b9dd-98a4f9b8970d",
   "metadata": {},
   "outputs": [
    {
     "name": "stdout",
     "output_type": "stream",
     "text": [
      "\n",
      "Unique values in the column Gross: ['28,341,469' '134,966,411' '534,858,444' '57,300,000' '4,360,000'\n",
      " '377,845,905' '107,928,762' '96,898,818' '292,576,195' '37,030,102'\n",
      " '315,544,750' '330,252,182' '6,100,000' '342,551,365' '171,479,930'\n",
      " '46,836,394' '290,475,067' '112,000,000' nan '53,367,844' '188,020,017'\n",
      " '7,563,397' '10,055,859' '216,540,909' '136,801,374' '57,598,247'\n",
      " '100,125,643' '130,742,922' '322,740,140' '269,061' '335,451,311'\n",
      " '13,092,000' '13,182,281' '53,089,891' '132,384,315' '32,572,577'\n",
      " '187,705,427' '6,719,864' '23,341,568' '19,501,238' '422,783,777'\n",
      " '204,843,350' '11,990,401' '210,609,762' '5,321,508' '32,000,000'\n",
      " '1,024,560' '163,245' '19,181' '1,661,096' '5,017,246' '12,391,761'\n",
      " '190,241,310' '858,373,000' '678,815,482' '209,726,015' '162,805,434'\n",
      " '448,139,099' '6,532,908' '1,223,869' '223,808,164' '11,286,112'\n",
      " '707,481' '25,544,867' '2,375,308' '248,159,971' '44,017,374'\n",
      " '83,471,511' '78,900,000' '275,902' '8,175,000' '36,764,313' '288,475'\n",
      " '159,227,644' '1,373,943' '687,185' '7,098,492' '6,857,096' '120,540,719'\n",
      " '34,400,301' '33,225,499' '30,328,156' '3,635,482' '130,096,601'\n",
      " '138,433,435' '933,933' '191,796,233' '75,600,000' '2,832,029'\n",
      " '46,357,676' '85,160,248' '51,973,029' '45,598,982' '309,125,409'\n",
      " '11,487,676' '28,262,574' '159,600,000' '6,207,725' '56,954,992'\n",
      " '15,000,000' '44,824,144' '18,600,000' '13,275,000' '3,200,000'\n",
      " '8,819,028' '55,240' '332,930' '5,720,000' '1,585,634' '28,877'\n",
      " '1,236,166' '5,450,000' '898,575' '4,186,168' '85,080,171' '54,513,740'\n",
      " '342,370' '20,186,659' '739,478' '1,429,534' '144,501' '1,626,289'\n",
      " '7,461' '39,567' '6,391,436' '13,657,115' '128,012,934' '293,004,164'\n",
      " '116,900,694' '1,113,541' '40,222,514' '37,634,615' '415,004,880'\n",
      " '70,511,035' '2,197,331' '733,094' '206,852,432' '1,223,240' '5,509,040'\n",
      " '4,711,096' '170,742,341' '3,897,569' '64,616,940' '67,436,818'\n",
      " '42,438,300' '101,157,447' '197,171,806' '280,015' '1,105,564'\n",
      " '83,008,852' '4,135,750' '23,383,987' '234,723' '1,229,197' '12,100,000'\n",
      " '25,000,000' '57,226' '12,562' '96,568' '10,177' '5,014,000' '977,375'\n",
      " '3,759,854' '1,241,223' '2,006,788' '3,492,754' '901,610' '226,277,068'\n",
      " '14,677,674' '3,107,072' '165,520' '10,616,104' '923,221' '59,100,318'\n",
      " '167,767,189' '67,209,615' '356,461,711' '2,804,874' '56,671,993'\n",
      " '26,947,624' '117,624,028' '45,055,776' '857,524' '1,035,953' '3,108,485'\n",
      " '61,002,302' '154,058,340' '148,095,302' '381,011,219' '1,498,210'\n",
      " '217,581,231' '18,354,356' '74,283,625' '2,217,561' '100,492,203'\n",
      " '23,530,892' '1,111,061' '5,820,649' '14,131' '300,000' '70,099,045'\n",
      " '380,843,261' '164,615,351' '5,383,834' '289,916,256' '70,147'\n",
      " '293,506,292' '259,127' '125,618,201' '348,660' '17,498,804' '2,734,044'\n",
      " '16,501,785' '24,611,975' '171,082' '309,811' '5,535,405' '4,043,686'\n",
      " '600,200' '402,453,882' '25,010,410' '5,216,888' '2,603,061' '95,860,116'\n",
      " '52,287,414' '138,530,565' '2,181,987' '495,770' '13,782,838'\n",
      " '22,244,207' '4,971,340' '32,868,943' '20,045,115' '48,979,328'\n",
      " '117,235,247' '177,345' '29,000,000' '30,933,743' '1,742,348' '39,481'\n",
      " '16,217,773' '102,021' '55,908' '4,050,000' '1,526,000' '74,700,000'\n",
      " '752,045' '44,908,000' '9,600,000' '3,969,893' '449,191' '10,900,000'\n",
      " '203,300' '198,676,459' '172,885' '21,877' '539,540' '1,033,895'\n",
      " '8,178,001' '151,101,803' '51,739,495' '228,433,663' '341,268,248'\n",
      " '6,738,000' '1,506,975' '132,422,809' '5,566,534' '1,079,369' '1,010,414'\n",
      " '2,625,803' '91,125,683' '333,176,600' '92,054,159' '25,568,251'\n",
      " '216,428,042' '183,637,894' '17,738,570' '100,119' '138,797,449'\n",
      " '169,708,112' '363,070,709' '106,662' '10,950' '4,018,695' '141,319,928'\n",
      " '106,954,678' '8,060' '623,279,547' '4,445,756' '27,298,285'\n",
      " '163,566,459' '57,366,262' '227,471,070' '238,507' '74,103,820'\n",
      " '5,990,075' '206,445,654' '167,445,960' '66,208,183' '502,028'\n",
      " '2,380,788' '2,086,345' '61,649,911' '1,787,378' '169,659' '305,413,918'\n",
      " '66,257,002' '261,441,092' '1,530,386' '1,480,006' '22,455,976'\n",
      " '4,184,036' '6,203,044' '776,665' '1,647,780' '5,595,428' '23,159,305'\n",
      " '3,296' '24,475,416' '13,417,292' '57,141,459' '515,905' '75,082,668'\n",
      " '70,906,973' '4,496,583' '63,895,607' '217,350,219' '70,405,498'\n",
      " '218,967,620' '184,208,848' '27,545,445' '178,800,000' '553,171'\n",
      " '30,857,814' '3,333,969' '4,542,825' '38,400,000' '52,767,889'\n",
      " '30,177,511' '39,200,000' '260,000,000' '50,000,000' '86,300,000'\n",
      " '53,267,000' '232,906,145' '4,081,254' '29,133,000' '80,500,000'\n",
      " '541,940' '102,308,889' '33,395,426' '104,945,305' '163,214,286'\n",
      " '111,722,000' '14,500,000' '50,690' '8,284,000' '19,516,000' '12,535,000'\n",
      " '11,900,000' '2,237,659' '17,570,324' '654,000' '8,000,000' '23,650,000'\n",
      " '2,108,060' '55,000' '2,076,020' '3,270,000' '50,970' '165,359,751'\n",
      " '3,313,513' '2,000,000' '18,095,701' '258,168' '32,015,231' '5,202,582'\n",
      " '5,875,006' '3,237,118' '315,058,289' '32,381,218' '349,555'\n",
      " '100,546,139' '936,662,225' '8,114,627' '233,921,534' '138,730'\n",
      " '44,671,682' '100,206,256' '6,739,492' '7,000,000' '2,084,637'\n",
      " '5,009,677' '2,122,065' '115,646,235' '26,236,603' '410,800' '25,379,975'\n",
      " '1,185,783' '257,730,019' '7,757,130' '13,756,082' '2,280,348'\n",
      " '124,987,023' '21,002,919' '3,635,164' '318,412,101' '13,542,874'\n",
      " '90,135,191' '249,358,727' '53,710,019' '9,284,265' '1,059,830'\n",
      " '1,000,045' '121,661,683' '1,221,261' '35,552,383' '32,534,850'\n",
      " '7,220,243' '245,852,179' '26,400,640' '2,201,126' '12,281,500'\n",
      " '1,324,974' '36,948,322' '56,362,352' '14,743,391' '18,254,702'\n",
      " '76,270,454' '40,084,041' '9,929,135' '188,751' '20,605,209' '57,229,890'\n",
      " '45,700,000' '37,823,676' '5,100,000' '70,600,000' '61,001' '198,809'\n",
      " '61,700,000' '12,064,472' '89,029' '22,276,975' '24,379,978' '13,474,588'\n",
      " '30,000,000' '88,300' '93,740,000' '9,450,000' '7,630,000' '2,650,000'\n",
      " '10,464,000' '6,540,000' '9,460,000' '296,000' '3,981,000' '2,537,520'\n",
      " '10,000,000' '2,402,067' '188,373,161' '169,607,287' '40,442,052'\n",
      " '48,023,088' '1,782,795' '47,695,120' '435,266' '532,177,324'\n",
      " '408,084,349' '54,117,416' '108,101,214' '6,735,118' '1,330,596'\n",
      " '2,852,400' '4,231,500' '169,209' '222,527,828' '15,322,921' '1,670,773'\n",
      " '5,209,580' '434,038,008' '85,433' '45,512,466' '177,002,924'\n",
      " '70,259,870' '128,392' '102,515,793' '107,100,855' '6,460' '161,197,785'\n",
      " '547,292' '258,366,855' '2,222,647' '10,095,170' '93,617,009'\n",
      " '145,000,989' '9,030,581' '9,439,923' '303,003,568' '741,283'\n",
      " '50,927,067' '35,061,555' '130,164,645' '760,507,625' '3,600'\n",
      " '50,866,635' '59,891,098' '23,637,265' '127,509,326' '2,921,738' '1,305'\n",
      " '38,405,088' '5,128,124' '128,985' '25,514,517' '119,519,402' '15,280'\n",
      " '81,001,787' '16,756,372' '181,655' '7,002,255' '54,234,062' '2,892,011'\n",
      " '115,654,751' '128,078,872' '8,264,530' '233,632,142' '25,812'\n",
      " '28,965,197' '32,481,825' '267,665,011' '659,325,379' '233,986'\n",
      " '12,339,633' '48,323,648' '4,040,691' '5,887,457' '9,170,214'\n",
      " '56,505,065' '32,416,586' '22,954,968' '1,769,305' '183,875,760'\n",
      " '17,266,971' '5,617,391' '2,015,810' '1,999,955' '57,504,069'\n",
      " '61,276,872' '52,096,475' '26,830,000' '118,500,000' '34,603,943'\n",
      " '59,735,548' '5,923,044' '70,136,369' '1,436,000' '61,503,218'\n",
      " '98,467,863' '45,875,171' '34,700,291' '238,632,124' '21,500,000'\n",
      " '2,500,000' '435,110,554' '106,260,000' '31,800,000' '4,420,000'\n",
      " '193,817' '16,056,255' '42,765,000' '4,000,000' '44,785,053' '17,550,741'\n",
      " '56,700,000' '72,000,000' '102,272,727' '39,100,000' '2,616,000'\n",
      " '336,705' '335,609' '324,591,735' '33,800,859' '176,040,665'\n",
      " '220,159,104' '3,358,518' '3,333,000' '765,127' '35,893,537'\n",
      " '128,261,724' '124,872,350' '6,743,776' '42,340,598' '2,199,675'\n",
      " '1,122,527' '175,058' '259,766,572' '985,912' '17,654,912' '189,422,889'\n",
      " '1,339,152' '71,177' '56,816,662' '257,760,692' '274,092,705'\n",
      " '228,778,661' '83,861' '96,962,694' '146,408,305' '277,322,503'\n",
      " '304,360,277' '132,092,958' '136,025,503' '32,391,374' '295,983,305'\n",
      " '15,090,400' '18,593,156' '881,302' '35,739,802' '1,752,214' '327,919'\n",
      " '25,442,958' '412,544' '17,605,861' '33,080,084' '22,494,487' '1,054,361'\n",
      " '871,577' '200,821,936' '4,398,392' '83,043,761' '53,606,916'\n",
      " '54,580,300' '17,108,591' '176,241,941' '1,082,715' '75,331,600'\n",
      " '44,585,453' '290,013,036' '77,911,774' '75,286,229' '111,110,575'\n",
      " '4,890,878' '4,064,200' '15,539,266' '40,311,852' '22,245,861'\n",
      " '108,638,745' '104,454,762' '141,072' '21,995,263' '3,029,081'\n",
      " '183,417,150' '151,086' '45,512,588' '52,037,603' '10,824,921'\n",
      " '2,807,390' '76,631,907' '17,105,219' '368,234' '22,858,926'\n",
      " '148,478,011' '63,540,020' '4,065,116' '41,909,762' '35,811,509'\n",
      " '56,116,183' '4,414,535' '10,019,307' '21,848,932' '3,151,130'\n",
      " '6,110,979' '77,324,422' '27,281,507' '48,169,908' '75,505,856'\n",
      " '10,725,228' '141,340,178' '82,418,501' '6,153,939' '5,080,409'\n",
      " '156,452,370' '1,544,889' '43,984,230' '22,238,696' '7,153,487'\n",
      " '8,551,228' '10,631,333' '10,600,000' '11,798,616' '54,000,000'\n",
      " '78,912,963' '47,212,904' '54,800,000' '83,400,000' '47,000,000'\n",
      " '1,924,733' '119,500,000' '29,800,000' '7,056,013' '15,630,710'\n",
      " '35,900,000' '44,527,234' '45,300,000' '26,331' '28,350,000' '51,081,062'\n",
      " '11,403,529' '83,957' '4,905,000' '52,709' '10,550,000' '536,118'\n",
      " '76,408,097' '26,020,957' '142,502,728' '566,356' '5,904,366'\n",
      " '24,801,212' '13,122,642' '845,464' '389,813,101' '107,825,862'\n",
      " '18,340,051' '72,313,754' '608,581,744' '248,757,044' '46,889,293'\n",
      " '109,767,581' '1,092,800' '26,862,450' '37,707,719' '208,545,589'\n",
      " '4,105,123' '41,003,371' '19,202,743' '215,288,866' '171,243,005'\n",
      " '1,008,098' '251,513,985' '35,014,192' '48,071,303' '75,605,492'\n",
      " '3,185,812' '75,590,286' '209,028,679' '255,959,475' '9,422,422'\n",
      " '69,951,824' '17,114,882' '38,634,938' '686,383' '88,513,495'\n",
      " '20,300,218' '10,301,706' '24,633,730' '39,868,642' '6,013' '301,959,197'\n",
      " '210,614,939' '23,089,926' '107,509,799' '24,149,632' '56,000,369'\n",
      " '3,081,925' '697,181' '548,707' '6,167,817' '5,739,376' '16,290,476'\n",
      " '45,289' '51,680,613' '13,060,843' '57,938,693' '45,064,915' '52,364,010'\n",
      " '13,622,333' '317,575,550' '96,522,687' '52,990,775' '51,401,758'\n",
      " '132,072,926' '50,668,906' '15,070,285' '7,267,585' '36,400,491'\n",
      " '120,620,254' '10,680,275' '14,378,331' '49,100,000' '3,796,699'\n",
      " '43,182,776' '100,012,499' '1,037,847' '71,516,617' '173,837,933'\n",
      " '1,464,625' '40,903,593' '7,993,039' '52,929,168' '453,243' '1,794,187'\n",
      " '285,761,243' '66,666,062' '92,823,600' '111,543,479' '78,756,177'\n",
      " '49,530,280' '65,207,127' '2,150,000' '119,285,432' '12,465,371'\n",
      " '22,490,039' '76,657,000' '43,000,000' '35,000,000' '132,088,635'\n",
      " '959,000' '696,690' '1,378,435' '141,843,612' '13,780,024' '30,500,000']\n"
     ]
    }
   ],
   "source": [
    "#Unique values in the column 'Certificate'\n",
    "unique_values = df[\"Gross\"].unique()\n",
    "print(f'\\nUnique values in the column {\"Gross\"}: {unique_values}')"
   ]
  },
  {
   "cell_type": "code",
   "execution_count": 91,
   "id": "c9833ff6-5cca-48a4-ae90-ece104b9cb73",
   "metadata": {},
   "outputs": [],
   "source": [
    "# Remove commas and convert to integers\n",
    "df[\"Gross\"] = df[\"Gross\"].str.replace(',', '').astype(float)"
   ]
  },
  {
   "cell_type": "code",
   "execution_count": 92,
   "id": "2a4cf494-410c-4a9b-be8a-73aa07b8a453",
   "metadata": {},
   "outputs": [
    {
     "name": "stdout",
     "output_type": "stream",
     "text": [
      "Median value of \"Gross\" column: 23530892.0\n"
     ]
    }
   ],
   "source": [
    "# Compute the median of the 'Gross' column\n",
    "median_value = df['Gross'].median()\n",
    "print(f'Median value of \"Gross\" column: {median_value}')"
   ]
  },
  {
   "cell_type": "code",
   "execution_count": 93,
   "id": "50aaa736-b8a1-4002-8e2d-65bcaffe566d",
   "metadata": {},
   "outputs": [
    {
     "data": {
      "text/plain": [
       "0"
      ]
     },
     "execution_count": 93,
     "metadata": {},
     "output_type": "execute_result"
    }
   ],
   "source": [
    "# Fill missing values with the median\n",
    "df['Gross'].fillna(median_value, inplace=True)\n",
    "\n",
    "# Verify imputation\n",
    "missing_values_after_imputation = df['Gross'].isna().sum()\n",
    "missing_values_after_imputation "
   ]
  },
  {
   "cell_type": "code",
   "execution_count": 94,
   "id": "be184037-33d2-491f-ae9f-3e140807fcca",
   "metadata": {},
   "outputs": [
    {
     "data": {
      "text/plain": [
       "Poster_Link      0\n",
       "Series_Title     0\n",
       "Released_Year    0\n",
       "Certificate      0\n",
       "Runtime          0\n",
       "Genre            0\n",
       "IMDB_Rating      0\n",
       "Overview         0\n",
       "Meta_score       0\n",
       "Director         0\n",
       "Star1            0\n",
       "Star2            0\n",
       "Star3            0\n",
       "Star4            0\n",
       "No_of_Votes      0\n",
       "Gross            0\n",
       "dtype: int64"
      ]
     },
     "execution_count": 94,
     "metadata": {},
     "output_type": "execute_result"
    }
   ],
   "source": [
    "#Checking now if the whole dataset still got missing values\n",
    "df.isna().sum()"
   ]
  },
  {
   "cell_type": "raw",
   "id": "1f5735d0-e770-4934-8fd8-9427627865e5",
   "metadata": {},
   "source": [
    "Exploratory Data Analysis"
   ]
  },
  {
   "cell_type": "code",
   "execution_count": 95,
   "id": "7cab2f40-c3c4-41bd-b4c0-07dbfc2854f5",
   "metadata": {},
   "outputs": [
    {
     "data": {
      "application/vnd.plotly.v1+json": {
       "config": {
        "plotlyServerURL": "https://plot.ly"
       },
       "data": [
        {
         "alignmentgroup": "True",
         "bingroup": "x",
         "hovertemplate": "Certificate=%{x}<br>count=%{y}<extra></extra>",
         "legendgroup": "",
         "marker": {
          "color": "#deb522",
          "pattern": {
           "shape": ""
          }
         },
         "name": "",
         "offsetgroup": "",
         "orientation": "v",
         "showlegend": false,
         "type": "histogram",
         "x": [
          "A",
          "A",
          "UA",
          "A",
          "U",
          "U",
          "A",
          "A",
          "UA",
          "A",
          "U",
          "UA",
          "A",
          "UA",
          "A",
          "A",
          "UA",
          "A",
          "PG-13",
          "A",
          "U",
          "UA",
          "A",
          "U",
          "R",
          "A",
          "U",
          "A",
          "A",
          "UA",
          "U",
          "U",
          "PG",
          "A",
          "A",
          "UA",
          "U",
          "A",
          "R",
          "UA",
          "R",
          "A",
          "A",
          "U",
          "U",
          "U",
          "U",
          "U",
          "U",
          "A",
          "U",
          "G",
          "G",
          "A",
          "UA",
          "UA",
          "U",
          "U",
          "U",
          "UA",
          "UA",
          "U",
          "A",
          "UA",
          "UA",
          "U",
          "U",
          "A",
          "A",
          "UA",
          "U",
          "A",
          "A",
          "A",
          "R",
          "R",
          "U",
          "A",
          "A",
          "U",
          "A",
          "U",
          "Passed",
          "Passed",
          "R",
          "A",
          "UA",
          "U",
          "R",
          "PG-13",
          "R",
          "TV-14",
          "A",
          "A",
          "UA",
          "U",
          "UA",
          "A",
          "UA",
          "U",
          "PG",
          "U",
          "A",
          "R",
          "UA",
          "A",
          "U",
          "R",
          "A",
          "U",
          "R",
          "A",
          "U",
          "A",
          "U",
          "U",
          "U",
          "U",
          "U",
          "A",
          "G",
          "Passed",
          "Passed",
          "Passed",
          "UA",
          "Passed",
          "Passed",
          "Passed",
          "UA",
          "UA",
          "UA",
          "UA",
          "A",
          "UA",
          "UA",
          "PG",
          "UA",
          "UA",
          "U",
          "U",
          "A",
          "UA",
          "UA",
          "R",
          "UA",
          "A",
          "U",
          "A",
          "U",
          "A",
          "UA",
          "U",
          "A",
          "UA",
          "U",
          "UA",
          "U",
          "R",
          "U",
          "UA",
          "U",
          "A",
          "A",
          "A",
          "A",
          "A",
          "U",
          "A",
          "U",
          "R",
          "U",
          "A",
          "U",
          "A",
          "U",
          "U",
          "PG",
          "U",
          "PG",
          "U",
          "U",
          "A",
          "A",
          "U",
          "U",
          "A",
          "A",
          "A",
          "U",
          "Passed",
          "Passed",
          "Passed",
          "Passed",
          "Passed",
          "Passed",
          "R",
          "UA",
          "16",
          "TV-MA",
          "A",
          "R",
          "UA",
          "A",
          "R",
          "R",
          "U",
          "UA",
          "UA",
          "U",
          "UA",
          "A",
          "U",
          "A",
          "U",
          "U",
          "A",
          "UA",
          "UA",
          "A",
          "PG",
          "UA",
          "U",
          "A",
          "UA",
          "UA",
          "R",
          "UA",
          "PG-13",
          "G",
          "U",
          "U",
          "R",
          "R",
          "U",
          "UA",
          "PG-13",
          "R",
          "R",
          "U",
          "UA",
          "Unrated",
          "R",
          "U",
          "A",
          "A",
          "U",
          "UA",
          "U",
          "A",
          "U",
          "U",
          "R",
          "R",
          "U",
          "A",
          "A",
          "UA",
          "UA",
          "U",
          "R",
          "U",
          "U",
          "UA",
          "UA",
          "R",
          "PG",
          "U",
          "U",
          "A",
          "U",
          "U",
          "A",
          "UA",
          "R",
          "A",
          "UA",
          "UA",
          "R",
          "A",
          "U",
          "UA",
          "PG",
          "G",
          "UA",
          "U",
          "A",
          "PG",
          "GP",
          "A",
          "R",
          "R",
          "Passed",
          "Passed",
          "Passed",
          "U",
          "A",
          "A",
          "A",
          "Passed",
          "U",
          "U",
          "PG",
          "PG",
          "PG",
          "PG",
          "A",
          "U",
          "Approved",
          "Approved",
          "Approved",
          "Approved",
          "Approved",
          "Approved",
          "Passed",
          "U",
          "Approved",
          "Approved",
          "Passed",
          "Passed",
          "Passed",
          "Passed",
          "UA",
          "UA",
          "U",
          "UA",
          "UA",
          "UA",
          "A",
          "U",
          "UA",
          "U",
          "UA",
          "U",
          "U",
          "UA",
          "UA",
          "R",
          "A",
          "UA",
          "UA",
          "UA",
          "A",
          "UA",
          "A",
          "UA",
          "U",
          "U",
          "UA",
          "R",
          "TV-PG",
          "A",
          "R",
          "UA",
          "UA",
          "UA",
          "A",
          "R",
          "UA",
          "PG-13",
          "R",
          "U",
          "A",
          "UA",
          "U",
          "A",
          "PG-13",
          "U",
          "U",
          "PG-13",
          "A",
          "R",
          "R",
          "U",
          "UA",
          "U",
          "UA",
          "UA",
          "U",
          "U",
          "R",
          "R",
          "R",
          "R",
          "R",
          "U",
          "U",
          "A",
          "R",
          "R",
          "PG",
          "R",
          "R",
          "U",
          "A",
          "UA",
          "U",
          "U",
          "R",
          "UA",
          "U",
          "UA",
          "G",
          "U",
          "R",
          "U",
          "UA",
          "U",
          "U",
          "U",
          "U",
          "UA",
          "U",
          "U",
          "PG",
          "A",
          "A",
          "U",
          "A",
          "R",
          "A",
          "PG",
          "R",
          "G",
          "UA",
          "PG",
          "A",
          "U",
          "A",
          "A",
          "U",
          "A",
          "A",
          "A",
          "A",
          "A",
          "A",
          "Passed",
          "PG-13",
          "PG-13",
          "A",
          "Approved",
          "Approved",
          "A",
          "A",
          "A",
          "A",
          "A",
          "A",
          "U",
          "U",
          "A",
          "U",
          "U",
          "Passed",
          "Approved",
          "Passed",
          "Passed",
          "Passed",
          "U",
          "TV-PG",
          "TV-PG",
          "U",
          "UA",
          "UA",
          "UA",
          "A",
          "U",
          "UA",
          "UA",
          "U",
          "UA",
          "R",
          "PG-13",
          "UA",
          "A",
          "UA",
          "UA",
          "U",
          "R",
          "UA",
          "U",
          "U",
          "UA",
          "UA",
          "R",
          "A",
          "R",
          "R",
          "A",
          "UA",
          "U",
          "A",
          "UA",
          "UA",
          "R",
          "UA",
          "UA",
          "R",
          "U",
          "PG",
          "PG-13",
          "PG-13",
          "UA",
          "UA",
          "R",
          "A",
          "U",
          "PG-13",
          "R",
          "R",
          "U",
          "UA",
          "R",
          "A",
          "A",
          "R",
          "U",
          "R",
          "U",
          "A",
          "R",
          "U",
          "A",
          "A",
          "U",
          "U",
          "PG-13",
          "A",
          "PG-13",
          "U",
          "R",
          "U",
          "U",
          "R",
          "A",
          "A",
          "U",
          "R",
          "R",
          "PG",
          "PG",
          "PG",
          "U",
          "A",
          "PG",
          "PG",
          "U",
          "U",
          "PG-13",
          "A",
          "U",
          "U",
          "U",
          "Passed",
          "U",
          "PG",
          "A",
          "Approved",
          "U",
          "U",
          "Passed",
          "Passed",
          "Passed",
          "Passed",
          "PG",
          "Passed",
          "Passed",
          "A",
          "A",
          "A",
          "UA",
          "R",
          "UA",
          "UA",
          "UA",
          "UA",
          "U",
          "A",
          "PG",
          "U",
          "UA",
          "R",
          "UA",
          "UA",
          "A",
          "U",
          "UA",
          "R",
          "PG-13",
          "U",
          "U",
          "UA",
          "U",
          "R",
          "U",
          "PG-13",
          "U",
          "R",
          "A",
          "U",
          "A",
          "R",
          "R",
          "R",
          "UA",
          "R",
          "R",
          "R",
          "UA",
          "UA",
          "UA",
          "R",
          "R",
          "UA",
          "UA",
          "A",
          "PG-13",
          "R",
          "UA",
          "R",
          "R",
          "A",
          "A",
          "UA",
          "R",
          "A",
          "UA",
          "UA",
          "UA",
          "U",
          "R",
          "PG",
          "U",
          "UA",
          "PG-13",
          "PG-13",
          "A",
          "A",
          "U",
          "R",
          "PG-13",
          "PG-13",
          "PG-13",
          "R",
          "U",
          "UA",
          "R",
          "UA",
          "R",
          "UA",
          "PG",
          "U",
          "UA",
          "UA",
          "UA",
          "UA",
          "R",
          "U",
          "U",
          "R",
          "U",
          "U",
          "U",
          "U",
          "R",
          "PG",
          "R",
          "R",
          "R",
          "A",
          "R",
          "U",
          "U",
          "R",
          "R",
          "U",
          "A",
          "A",
          "A",
          "U",
          "R",
          "U",
          "U",
          "UA",
          "UA",
          "UA",
          "PG",
          "U",
          "U",
          "A",
          "PG",
          "A",
          "PG",
          "U",
          "U",
          "A",
          "PG",
          "A",
          "U",
          "A",
          "A",
          "A",
          "A",
          "U",
          "U",
          "G",
          "A",
          "A",
          "U",
          "Passed",
          "PG",
          "PG",
          "PG",
          "Passed",
          "Passed",
          "Passed",
          "PG",
          "PG",
          "PG",
          "Passed",
          "R",
          "R",
          "R",
          "R",
          "R",
          "UA",
          "PG-13",
          "R",
          "U",
          "U",
          "A",
          "UA",
          "PG-13",
          "A",
          "A",
          "U",
          "UA",
          "UA",
          "UA",
          "UA",
          "U",
          "PG",
          "PG-13",
          "PG-13",
          "U",
          "UA",
          "UA",
          "UA",
          "UA",
          "UA",
          "UA",
          "UA",
          "A",
          "A",
          "UA",
          "A",
          "U",
          "R",
          "U",
          "R",
          "PG",
          "U",
          "UA",
          "UA",
          "UA",
          "R",
          "R",
          "UA",
          "R",
          "PG-13",
          "R",
          "U",
          "R",
          "A",
          "A",
          "UA",
          "UA",
          "A",
          "R",
          "A",
          "UA",
          "UA",
          "UA",
          "U",
          "UA",
          "R",
          "R",
          "PG-13",
          "PG-13",
          "R",
          "A",
          "A",
          "R",
          "R",
          "R",
          "UA",
          "U",
          "U",
          "R",
          "A",
          "R",
          "A",
          "A",
          "UA",
          "U",
          "R",
          "A",
          "UA",
          "PG-13",
          "A",
          "U",
          "A",
          "PG-13",
          "U",
          "UA",
          "U",
          "R",
          "R",
          "UA",
          "G",
          "U",
          "UA",
          "U",
          "R",
          "U",
          "PG-13",
          "U",
          "R",
          "U",
          "R",
          "R",
          "U",
          "U",
          "R",
          "A",
          "U",
          "UA",
          "PG",
          "U",
          "U",
          "A",
          "U",
          "U",
          "U",
          "A",
          "R",
          "PG",
          "U",
          "A",
          "A",
          "A",
          "U",
          "A",
          "A",
          "U",
          "G",
          "A",
          "A",
          "U",
          "U",
          "U",
          "A",
          "A",
          "Passed",
          "Approved",
          "Approved",
          "Approved",
          "Approved",
          "PG-13",
          "Passed",
          "Passed",
          "Passed",
          "U",
          "PG",
          "Approved",
          "G",
          "TV-PG",
          "PG-13",
          "U/A",
          "A",
          "R",
          "A",
          "A",
          "PG-13",
          "PG-13",
          "PG-13",
          "PG-13",
          "UA",
          "UA",
          "UA",
          "UA",
          "UA",
          "U",
          "A",
          "A",
          "R",
          "R",
          "PG-13",
          "UA",
          "A",
          "A",
          "A",
          "U",
          "UA",
          "PG-13",
          "R",
          "U",
          "R",
          "UA",
          "PG-13",
          "PG-13",
          "R",
          "A",
          "PG-13",
          "PG-13",
          "UA",
          "PG-13",
          "UA",
          "R",
          "U",
          "R",
          "R",
          "R",
          "PG-13",
          "PG-13",
          "U",
          "UA",
          "UA",
          "A",
          "R",
          "A",
          "R",
          "UA",
          "R",
          "R",
          "R",
          "U",
          "R",
          "UA",
          "R",
          "U",
          "R",
          "U",
          "A",
          "A",
          "A",
          "A",
          "U",
          "PG-13",
          "R",
          "A",
          "A",
          "R",
          "A",
          "UA",
          "A",
          "U",
          "R",
          "A",
          "A",
          "UA",
          "A",
          "U",
          "A",
          "R",
          "A",
          "U",
          "U",
          "R",
          "U",
          "UA",
          "U",
          "R",
          "U",
          "A",
          "UA",
          "U",
          "U",
          "U",
          "A",
          "A",
          "UA",
          "A",
          "UA",
          "U",
          "A",
          "U",
          "A",
          "U",
          "A",
          "PG",
          "GP",
          "U",
          "A",
          "U",
          "A",
          "G",
          "Passed",
          "Passed",
          "Passed"
         ],
         "xaxis": "x",
         "yaxis": "y"
        }
       ],
       "layout": {
        "bargap": 0.1,
        "barmode": "relative",
        "legend": {
         "tracegroupgap": 0
        },
        "template": {
         "data": {
          "bar": [
           {
            "error_x": {
             "color": "#2a3f5f"
            },
            "error_y": {
             "color": "#2a3f5f"
            },
            "marker": {
             "line": {
              "color": "#E5ECF6",
              "width": 0.5
             },
             "pattern": {
              "fillmode": "overlay",
              "size": 10,
              "solidity": 0.2
             }
            },
            "type": "bar"
           }
          ],
          "barpolar": [
           {
            "marker": {
             "line": {
              "color": "#E5ECF6",
              "width": 0.5
             },
             "pattern": {
              "fillmode": "overlay",
              "size": 10,
              "solidity": 0.2
             }
            },
            "type": "barpolar"
           }
          ],
          "carpet": [
           {
            "aaxis": {
             "endlinecolor": "#2a3f5f",
             "gridcolor": "white",
             "linecolor": "white",
             "minorgridcolor": "white",
             "startlinecolor": "#2a3f5f"
            },
            "baxis": {
             "endlinecolor": "#2a3f5f",
             "gridcolor": "white",
             "linecolor": "white",
             "minorgridcolor": "white",
             "startlinecolor": "#2a3f5f"
            },
            "type": "carpet"
           }
          ],
          "choropleth": [
           {
            "colorbar": {
             "outlinewidth": 0,
             "ticks": ""
            },
            "type": "choropleth"
           }
          ],
          "contour": [
           {
            "colorbar": {
             "outlinewidth": 0,
             "ticks": ""
            },
            "colorscale": [
             [
              0,
              "#0d0887"
             ],
             [
              0.1111111111111111,
              "#46039f"
             ],
             [
              0.2222222222222222,
              "#7201a8"
             ],
             [
              0.3333333333333333,
              "#9c179e"
             ],
             [
              0.4444444444444444,
              "#bd3786"
             ],
             [
              0.5555555555555556,
              "#d8576b"
             ],
             [
              0.6666666666666666,
              "#ed7953"
             ],
             [
              0.7777777777777778,
              "#fb9f3a"
             ],
             [
              0.8888888888888888,
              "#fdca26"
             ],
             [
              1,
              "#f0f921"
             ]
            ],
            "type": "contour"
           }
          ],
          "contourcarpet": [
           {
            "colorbar": {
             "outlinewidth": 0,
             "ticks": ""
            },
            "type": "contourcarpet"
           }
          ],
          "heatmap": [
           {
            "colorbar": {
             "outlinewidth": 0,
             "ticks": ""
            },
            "colorscale": [
             [
              0,
              "#0d0887"
             ],
             [
              0.1111111111111111,
              "#46039f"
             ],
             [
              0.2222222222222222,
              "#7201a8"
             ],
             [
              0.3333333333333333,
              "#9c179e"
             ],
             [
              0.4444444444444444,
              "#bd3786"
             ],
             [
              0.5555555555555556,
              "#d8576b"
             ],
             [
              0.6666666666666666,
              "#ed7953"
             ],
             [
              0.7777777777777778,
              "#fb9f3a"
             ],
             [
              0.8888888888888888,
              "#fdca26"
             ],
             [
              1,
              "#f0f921"
             ]
            ],
            "type": "heatmap"
           }
          ],
          "heatmapgl": [
           {
            "colorbar": {
             "outlinewidth": 0,
             "ticks": ""
            },
            "colorscale": [
             [
              0,
              "#0d0887"
             ],
             [
              0.1111111111111111,
              "#46039f"
             ],
             [
              0.2222222222222222,
              "#7201a8"
             ],
             [
              0.3333333333333333,
              "#9c179e"
             ],
             [
              0.4444444444444444,
              "#bd3786"
             ],
             [
              0.5555555555555556,
              "#d8576b"
             ],
             [
              0.6666666666666666,
              "#ed7953"
             ],
             [
              0.7777777777777778,
              "#fb9f3a"
             ],
             [
              0.8888888888888888,
              "#fdca26"
             ],
             [
              1,
              "#f0f921"
             ]
            ],
            "type": "heatmapgl"
           }
          ],
          "histogram": [
           {
            "marker": {
             "pattern": {
              "fillmode": "overlay",
              "size": 10,
              "solidity": 0.2
             }
            },
            "type": "histogram"
           }
          ],
          "histogram2d": [
           {
            "colorbar": {
             "outlinewidth": 0,
             "ticks": ""
            },
            "colorscale": [
             [
              0,
              "#0d0887"
             ],
             [
              0.1111111111111111,
              "#46039f"
             ],
             [
              0.2222222222222222,
              "#7201a8"
             ],
             [
              0.3333333333333333,
              "#9c179e"
             ],
             [
              0.4444444444444444,
              "#bd3786"
             ],
             [
              0.5555555555555556,
              "#d8576b"
             ],
             [
              0.6666666666666666,
              "#ed7953"
             ],
             [
              0.7777777777777778,
              "#fb9f3a"
             ],
             [
              0.8888888888888888,
              "#fdca26"
             ],
             [
              1,
              "#f0f921"
             ]
            ],
            "type": "histogram2d"
           }
          ],
          "histogram2dcontour": [
           {
            "colorbar": {
             "outlinewidth": 0,
             "ticks": ""
            },
            "colorscale": [
             [
              0,
              "#0d0887"
             ],
             [
              0.1111111111111111,
              "#46039f"
             ],
             [
              0.2222222222222222,
              "#7201a8"
             ],
             [
              0.3333333333333333,
              "#9c179e"
             ],
             [
              0.4444444444444444,
              "#bd3786"
             ],
             [
              0.5555555555555556,
              "#d8576b"
             ],
             [
              0.6666666666666666,
              "#ed7953"
             ],
             [
              0.7777777777777778,
              "#fb9f3a"
             ],
             [
              0.8888888888888888,
              "#fdca26"
             ],
             [
              1,
              "#f0f921"
             ]
            ],
            "type": "histogram2dcontour"
           }
          ],
          "mesh3d": [
           {
            "colorbar": {
             "outlinewidth": 0,
             "ticks": ""
            },
            "type": "mesh3d"
           }
          ],
          "parcoords": [
           {
            "line": {
             "colorbar": {
              "outlinewidth": 0,
              "ticks": ""
             }
            },
            "type": "parcoords"
           }
          ],
          "pie": [
           {
            "automargin": true,
            "type": "pie"
           }
          ],
          "scatter": [
           {
            "fillpattern": {
             "fillmode": "overlay",
             "size": 10,
             "solidity": 0.2
            },
            "type": "scatter"
           }
          ],
          "scatter3d": [
           {
            "line": {
             "colorbar": {
              "outlinewidth": 0,
              "ticks": ""
             }
            },
            "marker": {
             "colorbar": {
              "outlinewidth": 0,
              "ticks": ""
             }
            },
            "type": "scatter3d"
           }
          ],
          "scattercarpet": [
           {
            "marker": {
             "colorbar": {
              "outlinewidth": 0,
              "ticks": ""
             }
            },
            "type": "scattercarpet"
           }
          ],
          "scattergeo": [
           {
            "marker": {
             "colorbar": {
              "outlinewidth": 0,
              "ticks": ""
             }
            },
            "type": "scattergeo"
           }
          ],
          "scattergl": [
           {
            "marker": {
             "colorbar": {
              "outlinewidth": 0,
              "ticks": ""
             }
            },
            "type": "scattergl"
           }
          ],
          "scattermapbox": [
           {
            "marker": {
             "colorbar": {
              "outlinewidth": 0,
              "ticks": ""
             }
            },
            "type": "scattermapbox"
           }
          ],
          "scatterpolar": [
           {
            "marker": {
             "colorbar": {
              "outlinewidth": 0,
              "ticks": ""
             }
            },
            "type": "scatterpolar"
           }
          ],
          "scatterpolargl": [
           {
            "marker": {
             "colorbar": {
              "outlinewidth": 0,
              "ticks": ""
             }
            },
            "type": "scatterpolargl"
           }
          ],
          "scatterternary": [
           {
            "marker": {
             "colorbar": {
              "outlinewidth": 0,
              "ticks": ""
             }
            },
            "type": "scatterternary"
           }
          ],
          "surface": [
           {
            "colorbar": {
             "outlinewidth": 0,
             "ticks": ""
            },
            "colorscale": [
             [
              0,
              "#0d0887"
             ],
             [
              0.1111111111111111,
              "#46039f"
             ],
             [
              0.2222222222222222,
              "#7201a8"
             ],
             [
              0.3333333333333333,
              "#9c179e"
             ],
             [
              0.4444444444444444,
              "#bd3786"
             ],
             [
              0.5555555555555556,
              "#d8576b"
             ],
             [
              0.6666666666666666,
              "#ed7953"
             ],
             [
              0.7777777777777778,
              "#fb9f3a"
             ],
             [
              0.8888888888888888,
              "#fdca26"
             ],
             [
              1,
              "#f0f921"
             ]
            ],
            "type": "surface"
           }
          ],
          "table": [
           {
            "cells": {
             "fill": {
              "color": "#EBF0F8"
             },
             "line": {
              "color": "white"
             }
            },
            "header": {
             "fill": {
              "color": "#C8D4E3"
             },
             "line": {
              "color": "white"
             }
            },
            "type": "table"
           }
          ]
         },
         "layout": {
          "annotationdefaults": {
           "arrowcolor": "#2a3f5f",
           "arrowhead": 0,
           "arrowwidth": 1
          },
          "autotypenumbers": "strict",
          "coloraxis": {
           "colorbar": {
            "outlinewidth": 0,
            "ticks": ""
           }
          },
          "colorscale": {
           "diverging": [
            [
             0,
             "#8e0152"
            ],
            [
             0.1,
             "#c51b7d"
            ],
            [
             0.2,
             "#de77ae"
            ],
            [
             0.3,
             "#f1b6da"
            ],
            [
             0.4,
             "#fde0ef"
            ],
            [
             0.5,
             "#f7f7f7"
            ],
            [
             0.6,
             "#e6f5d0"
            ],
            [
             0.7,
             "#b8e186"
            ],
            [
             0.8,
             "#7fbc41"
            ],
            [
             0.9,
             "#4d9221"
            ],
            [
             1,
             "#276419"
            ]
           ],
           "sequential": [
            [
             0,
             "#0d0887"
            ],
            [
             0.1111111111111111,
             "#46039f"
            ],
            [
             0.2222222222222222,
             "#7201a8"
            ],
            [
             0.3333333333333333,
             "#9c179e"
            ],
            [
             0.4444444444444444,
             "#bd3786"
            ],
            [
             0.5555555555555556,
             "#d8576b"
            ],
            [
             0.6666666666666666,
             "#ed7953"
            ],
            [
             0.7777777777777778,
             "#fb9f3a"
            ],
            [
             0.8888888888888888,
             "#fdca26"
            ],
            [
             1,
             "#f0f921"
            ]
           ],
           "sequentialminus": [
            [
             0,
             "#0d0887"
            ],
            [
             0.1111111111111111,
             "#46039f"
            ],
            [
             0.2222222222222222,
             "#7201a8"
            ],
            [
             0.3333333333333333,
             "#9c179e"
            ],
            [
             0.4444444444444444,
             "#bd3786"
            ],
            [
             0.5555555555555556,
             "#d8576b"
            ],
            [
             0.6666666666666666,
             "#ed7953"
            ],
            [
             0.7777777777777778,
             "#fb9f3a"
            ],
            [
             0.8888888888888888,
             "#fdca26"
            ],
            [
             1,
             "#f0f921"
            ]
           ]
          },
          "colorway": [
           "#636efa",
           "#EF553B",
           "#00cc96",
           "#ab63fa",
           "#FFA15A",
           "#19d3f3",
           "#FF6692",
           "#B6E880",
           "#FF97FF",
           "#FECB52"
          ],
          "font": {
           "color": "#2a3f5f"
          },
          "geo": {
           "bgcolor": "white",
           "lakecolor": "white",
           "landcolor": "#E5ECF6",
           "showlakes": true,
           "showland": true,
           "subunitcolor": "white"
          },
          "hoverlabel": {
           "align": "left"
          },
          "hovermode": "closest",
          "mapbox": {
           "style": "light"
          },
          "paper_bgcolor": "white",
          "plot_bgcolor": "#E5ECF6",
          "polar": {
           "angularaxis": {
            "gridcolor": "white",
            "linecolor": "white",
            "ticks": ""
           },
           "bgcolor": "#E5ECF6",
           "radialaxis": {
            "gridcolor": "white",
            "linecolor": "white",
            "ticks": ""
           }
          },
          "scene": {
           "xaxis": {
            "backgroundcolor": "#E5ECF6",
            "gridcolor": "white",
            "gridwidth": 2,
            "linecolor": "white",
            "showbackground": true,
            "ticks": "",
            "zerolinecolor": "white"
           },
           "yaxis": {
            "backgroundcolor": "#E5ECF6",
            "gridcolor": "white",
            "gridwidth": 2,
            "linecolor": "white",
            "showbackground": true,
            "ticks": "",
            "zerolinecolor": "white"
           },
           "zaxis": {
            "backgroundcolor": "#E5ECF6",
            "gridcolor": "white",
            "gridwidth": 2,
            "linecolor": "white",
            "showbackground": true,
            "ticks": "",
            "zerolinecolor": "white"
           }
          },
          "shapedefaults": {
           "line": {
            "color": "#2a3f5f"
           }
          },
          "ternary": {
           "aaxis": {
            "gridcolor": "white",
            "linecolor": "white",
            "ticks": ""
           },
           "baxis": {
            "gridcolor": "white",
            "linecolor": "white",
            "ticks": ""
           },
           "bgcolor": "#E5ECF6",
           "caxis": {
            "gridcolor": "white",
            "linecolor": "white",
            "ticks": ""
           }
          },
          "title": {
           "x": 0.05
          },
          "xaxis": {
           "automargin": true,
           "gridcolor": "white",
           "linecolor": "white",
           "ticks": "",
           "title": {
            "standoff": 15
           },
           "zerolinecolor": "white",
           "zerolinewidth": 2
          },
          "yaxis": {
           "automargin": true,
           "gridcolor": "white",
           "linecolor": "white",
           "ticks": "",
           "title": {
            "standoff": 15
           },
           "zerolinecolor": "white",
           "zerolinewidth": 2
          }
         }
        },
        "title": {
         "text": "Certificate Distribution"
        },
        "xaxis": {
         "anchor": "y",
         "domain": [
          0,
          1
         ],
         "title": {
          "text": "Certificate"
         }
        },
        "yaxis": {
         "anchor": "x",
         "domain": [
          0,
          1
         ],
         "title": {
          "text": "count"
         }
        }
       }
      }
     },
     "metadata": {},
     "output_type": "display_data"
    }
   ],
   "source": [
    "# Certificate Distribution\n",
    "import plotly.express as px \n",
    "fig = px.histogram(df.Certificate, x=\"Certificate\", title=\"Certificate Distribution\",color_discrete_sequence=[\"#deb522\"])\n",
    "fig.update_layout(bargap=0.1)\n",
    "fig.show()"
   ]
  },
  {
   "cell_type": "code",
   "execution_count": 96,
   "id": "a2acad0b-b2d5-4bad-9364-2b7bd4eea12a",
   "metadata": {},
   "outputs": [
    {
     "data": {
      "application/vnd.plotly.v1+json": {
       "config": {
        "plotlyServerURL": "https://plot.ly"
       },
       "data": [
        {
         "alignmentgroup": "True",
         "bingroup": "x",
         "hovertemplate": "IMDB_Rating=%{x}<br>count=%{y}<extra></extra>",
         "legendgroup": "",
         "marker": {
          "color": "#deb522",
          "pattern": {
           "shape": ""
          }
         },
         "name": "",
         "offsetgroup": "",
         "orientation": "v",
         "showlegend": false,
         "type": "histogram",
         "x": [
          9.3,
          9.2,
          9,
          9,
          9,
          8.9,
          8.9,
          8.9,
          8.8,
          8.8,
          8.8,
          8.8,
          8.8,
          8.7,
          8.7,
          8.7,
          8.7,
          8.7,
          8.6,
          8.6,
          8.6,
          8.6,
          8.6,
          8.6,
          8.6,
          8.6,
          8.6,
          8.6,
          8.6,
          8.6,
          8.6,
          8.6,
          8.6,
          8.5,
          8.5,
          8.5,
          8.5,
          8.5,
          8.5,
          8.5,
          8.5,
          8.5,
          8.5,
          8.5,
          8.5,
          8.5,
          8.5,
          8.5,
          8.5,
          8.5,
          8.5,
          8.5,
          8.5,
          8.4,
          8.4,
          8.4,
          8.4,
          8.4,
          8.4,
          8.4,
          8.4,
          8.4,
          8.4,
          8.4,
          8.4,
          8.4,
          8.4,
          8.4,
          8.4,
          8.4,
          8.4,
          8.4,
          8.4,
          8.4,
          8.4,
          8.4,
          8.4,
          8.4,
          8.4,
          8.4,
          8.4,
          8.4,
          8.4,
          8.4,
          8.3,
          8.3,
          8.3,
          8.3,
          8.3,
          8.3,
          8.3,
          8.3,
          8.3,
          8.3,
          8.3,
          8.3,
          8.3,
          8.3,
          8.3,
          8.3,
          8.3,
          8.3,
          8.3,
          8.3,
          8.3,
          8.3,
          8.3,
          8.3,
          8.3,
          8.3,
          8.3,
          8.3,
          8.3,
          8.3,
          8.3,
          8.3,
          8.3,
          8.3,
          8.3,
          8.3,
          8.3,
          8.3,
          8.3,
          8.3,
          8.3,
          8.3,
          8.3,
          8.3,
          8.2,
          8.2,
          8.2,
          8.2,
          8.2,
          8.2,
          8.2,
          8.2,
          8.2,
          8.2,
          8.2,
          8.2,
          8.2,
          8.2,
          8.2,
          8.2,
          8.2,
          8.2,
          8.2,
          8.2,
          8.2,
          8.2,
          8.2,
          8.2,
          8.2,
          8.2,
          8.2,
          8.2,
          8.2,
          8.2,
          8.2,
          8.2,
          8.2,
          8.2,
          8.2,
          8.2,
          8.2,
          8.2,
          8.2,
          8.2,
          8.2,
          8.2,
          8.2,
          8.2,
          8.2,
          8.2,
          8.2,
          8.2,
          8.2,
          8.2,
          8.2,
          8.2,
          8.2,
          8.2,
          8.2,
          8.2,
          8.2,
          8.2,
          8.2,
          8.2,
          8.2,
          8.2,
          8.2,
          8.2,
          8.2,
          8.2,
          8.2,
          8.1,
          8.1,
          8.1,
          8.1,
          8.1,
          8.1,
          8.1,
          8.1,
          8.1,
          8.1,
          8.1,
          8.1,
          8.1,
          8.1,
          8.1,
          8.1,
          8.1,
          8.1,
          8.1,
          8.1,
          8.1,
          8.1,
          8.1,
          8.1,
          8.1,
          8.1,
          8.1,
          8.1,
          8.1,
          8.1,
          8.1,
          8.1,
          8.1,
          8.1,
          8.1,
          8.1,
          8.1,
          8.1,
          8.1,
          8.1,
          8.1,
          8.1,
          8.1,
          8.1,
          8.1,
          8.1,
          8.1,
          8.1,
          8.1,
          8.1,
          8.1,
          8.1,
          8.1,
          8.1,
          8.1,
          8.1,
          8.1,
          8.1,
          8.1,
          8.1,
          8.1,
          8.1,
          8.1,
          8.1,
          8.1,
          8.1,
          8.1,
          8.1,
          8.1,
          8.1,
          8.1,
          8.1,
          8.1,
          8.1,
          8.1,
          8.1,
          8.1,
          8.1,
          8.1,
          8.1,
          8.1,
          8.1,
          8.1,
          8.1,
          8.1,
          8.1,
          8.1,
          8.1,
          8.1,
          8.1,
          8.1,
          8.1,
          8.1,
          8.1,
          8.1,
          8.1,
          8.1,
          8.1,
          8.1,
          8.1,
          8.1,
          8.1,
          8.1,
          8.1,
          8.1,
          8.1,
          8.1,
          8.1,
          8.1,
          8.1,
          8.1,
          8.1,
          8.1,
          8.1,
          8.1,
          8.1,
          8.1,
          8.1,
          8.1,
          8.1,
          8.1,
          8.1,
          8.1,
          8.1,
          8.1,
          8.1,
          8.1,
          8,
          8,
          8,
          8,
          8,
          8,
          8,
          8,
          8,
          8,
          8,
          8,
          8,
          8,
          8,
          8,
          8,
          8,
          8,
          8,
          8,
          8,
          8,
          8,
          8,
          8,
          8,
          8,
          8,
          8,
          8,
          8,
          8,
          8,
          8,
          8,
          8,
          8,
          8,
          8,
          8,
          8,
          8,
          8,
          8,
          8,
          8,
          8,
          8,
          8,
          8,
          8,
          8,
          8,
          8,
          8,
          8,
          8,
          8,
          8,
          8,
          8,
          8,
          8,
          8,
          8,
          8,
          8,
          8,
          8,
          8,
          8,
          8,
          8,
          8,
          8,
          8,
          8,
          8,
          8,
          8,
          8,
          8,
          8,
          8,
          8,
          8,
          8,
          8,
          8,
          8,
          8,
          8,
          8,
          8,
          8,
          8,
          8,
          8,
          8,
          8,
          8,
          8,
          8,
          8,
          8,
          8,
          8,
          8,
          8,
          8,
          8,
          8,
          8,
          8,
          8,
          8,
          8,
          8,
          8,
          8,
          8,
          8,
          8,
          8,
          8,
          8,
          8,
          8,
          8,
          8,
          8,
          8,
          8,
          8,
          8,
          8,
          8,
          8,
          8,
          8,
          7.9,
          7.9,
          7.9,
          7.9,
          7.9,
          7.9,
          7.9,
          7.9,
          7.9,
          7.9,
          7.9,
          7.9,
          7.9,
          7.9,
          7.9,
          7.9,
          7.9,
          7.9,
          7.9,
          7.9,
          7.9,
          7.9,
          7.9,
          7.9,
          7.9,
          7.9,
          7.9,
          7.9,
          7.9,
          7.9,
          7.9,
          7.9,
          7.9,
          7.9,
          7.9,
          7.9,
          7.9,
          7.9,
          7.9,
          7.9,
          7.9,
          7.9,
          7.9,
          7.9,
          7.9,
          7.9,
          7.9,
          7.9,
          7.9,
          7.9,
          7.9,
          7.9,
          7.9,
          7.9,
          7.9,
          7.9,
          7.9,
          7.9,
          7.9,
          7.9,
          7.9,
          7.9,
          7.9,
          7.9,
          7.9,
          7.9,
          7.9,
          7.9,
          7.9,
          7.9,
          7.9,
          7.9,
          7.9,
          7.9,
          7.9,
          7.9,
          7.9,
          7.9,
          7.9,
          7.9,
          7.9,
          7.9,
          7.9,
          7.9,
          7.9,
          7.9,
          7.9,
          7.9,
          7.9,
          7.9,
          7.9,
          7.9,
          7.9,
          7.9,
          7.9,
          7.9,
          7.9,
          7.9,
          7.9,
          7.9,
          7.9,
          7.9,
          7.9,
          7.9,
          7.9,
          7.9,
          7.8,
          7.8,
          7.8,
          7.8,
          7.8,
          7.8,
          7.8,
          7.8,
          7.8,
          7.8,
          7.8,
          7.8,
          7.8,
          7.8,
          7.8,
          7.8,
          7.8,
          7.8,
          7.8,
          7.8,
          7.8,
          7.8,
          7.8,
          7.8,
          7.8,
          7.8,
          7.8,
          7.8,
          7.8,
          7.8,
          7.8,
          7.8,
          7.8,
          7.8,
          7.8,
          7.8,
          7.8,
          7.8,
          7.8,
          7.8,
          7.8,
          7.8,
          7.8,
          7.8,
          7.8,
          7.8,
          7.8,
          7.8,
          7.8,
          7.8,
          7.8,
          7.8,
          7.8,
          7.8,
          7.8,
          7.8,
          7.8,
          7.8,
          7.8,
          7.8,
          7.8,
          7.8,
          7.8,
          7.8,
          7.8,
          7.8,
          7.8,
          7.8,
          7.8,
          7.8,
          7.8,
          7.8,
          7.8,
          7.8,
          7.8,
          7.8,
          7.8,
          7.8,
          7.8,
          7.8,
          7.8,
          7.8,
          7.8,
          7.8,
          7.8,
          7.8,
          7.8,
          7.8,
          7.8,
          7.8,
          7.8,
          7.8,
          7.8,
          7.8,
          7.8,
          7.8,
          7.8,
          7.8,
          7.8,
          7.8,
          7.8,
          7.8,
          7.8,
          7.8,
          7.8,
          7.8,
          7.8,
          7.8,
          7.8,
          7.8,
          7.8,
          7.8,
          7.8,
          7.8,
          7.8,
          7.8,
          7.8,
          7.8,
          7.8,
          7.8,
          7.8,
          7.8,
          7.8,
          7.8,
          7.8,
          7.8,
          7.8,
          7.8,
          7.8,
          7.8,
          7.8,
          7.8,
          7.8,
          7.8,
          7.8,
          7.8,
          7.8,
          7.8,
          7.8,
          7.8,
          7.8,
          7.8,
          7.8,
          7.8,
          7.8,
          7.8,
          7.8,
          7.8,
          7.8,
          7.8,
          7.8,
          7.7,
          7.7,
          7.7,
          7.7,
          7.7,
          7.7,
          7.7,
          7.7,
          7.7,
          7.7,
          7.7,
          7.7,
          7.7,
          7.7,
          7.7,
          7.7,
          7.7,
          7.7,
          7.7,
          7.7,
          7.7,
          7.7,
          7.7,
          7.7,
          7.7,
          7.7,
          7.7,
          7.7,
          7.7,
          7.7,
          7.7,
          7.7,
          7.7,
          7.7,
          7.7,
          7.7,
          7.7,
          7.7,
          7.7,
          7.7,
          7.7,
          7.7,
          7.7,
          7.7,
          7.7,
          7.7,
          7.7,
          7.7,
          7.7,
          7.7,
          7.7,
          7.7,
          7.7,
          7.7,
          7.7,
          7.7,
          7.7,
          7.7,
          7.7,
          7.7,
          7.7,
          7.7,
          7.7,
          7.7,
          7.7,
          7.7,
          7.7,
          7.7,
          7.7,
          7.7,
          7.7,
          7.7,
          7.7,
          7.7,
          7.7,
          7.7,
          7.7,
          7.7,
          7.7,
          7.7,
          7.7,
          7.7,
          7.7,
          7.7,
          7.7,
          7.7,
          7.7,
          7.7,
          7.7,
          7.7,
          7.7,
          7.7,
          7.7,
          7.7,
          7.7,
          7.7,
          7.7,
          7.7,
          7.7,
          7.7,
          7.7,
          7.7,
          7.7,
          7.7,
          7.7,
          7.7,
          7.7,
          7.7,
          7.7,
          7.7,
          7.7,
          7.7,
          7.7,
          7.7,
          7.7,
          7.7,
          7.7,
          7.7,
          7.7,
          7.7,
          7.7,
          7.7,
          7.7,
          7.7,
          7.7,
          7.7,
          7.7,
          7.7,
          7.7,
          7.7,
          7.7,
          7.7,
          7.7,
          7.7,
          7.7,
          7.7,
          7.7,
          7.7,
          7.7,
          7.7,
          7.7,
          7.7,
          7.7,
          7.7,
          7.7,
          7.7,
          7.7,
          7.7,
          7.7,
          7.7,
          7.7,
          7.7,
          7.7,
          7.7,
          7.7,
          7.7,
          7.7,
          7.6,
          7.6,
          7.6,
          7.6,
          7.6,
          7.6,
          7.6,
          7.6,
          7.6,
          7.6,
          7.6,
          7.6,
          7.6,
          7.6,
          7.6,
          7.6,
          7.6,
          7.6,
          7.6,
          7.6,
          7.6,
          7.6,
          7.6,
          7.6,
          7.6,
          7.6,
          7.6,
          7.6,
          7.6,
          7.6,
          7.6,
          7.6,
          7.6,
          7.6,
          7.6,
          7.6,
          7.6,
          7.6,
          7.6,
          7.6,
          7.6,
          7.6,
          7.6,
          7.6,
          7.6,
          7.6,
          7.6,
          7.6,
          7.6,
          7.6,
          7.6,
          7.6,
          7.6,
          7.6,
          7.6,
          7.6,
          7.6,
          7.6,
          7.6,
          7.6,
          7.6,
          7.6,
          7.6,
          7.6,
          7.6,
          7.6,
          7.6,
          7.6,
          7.6,
          7.6,
          7.6,
          7.6,
          7.6,
          7.6,
          7.6,
          7.6,
          7.6,
          7.6,
          7.6,
          7.6,
          7.6,
          7.6,
          7.6,
          7.6,
          7.6,
          7.6,
          7.6,
          7.6,
          7.6,
          7.6,
          7.6,
          7.6,
          7.6,
          7.6,
          7.6,
          7.6,
          7.6,
          7.6,
          7.6,
          7.6,
          7.6,
          7.6,
          7.6,
          7.6,
          7.6,
          7.6,
          7.6,
          7.6,
          7.6,
          7.6,
          7.6,
          7.6,
          7.6,
          7.6,
          7.6,
          7.6,
          7.6,
          7.6,
          7.6,
          7.6,
          7.6,
          7.6,
          7.6
         ],
         "xaxis": "x",
         "yaxis": "y"
        }
       ],
       "layout": {
        "bargap": 0.1,
        "barmode": "relative",
        "legend": {
         "tracegroupgap": 0
        },
        "template": {
         "data": {
          "bar": [
           {
            "error_x": {
             "color": "#2a3f5f"
            },
            "error_y": {
             "color": "#2a3f5f"
            },
            "marker": {
             "line": {
              "color": "#E5ECF6",
              "width": 0.5
             },
             "pattern": {
              "fillmode": "overlay",
              "size": 10,
              "solidity": 0.2
             }
            },
            "type": "bar"
           }
          ],
          "barpolar": [
           {
            "marker": {
             "line": {
              "color": "#E5ECF6",
              "width": 0.5
             },
             "pattern": {
              "fillmode": "overlay",
              "size": 10,
              "solidity": 0.2
             }
            },
            "type": "barpolar"
           }
          ],
          "carpet": [
           {
            "aaxis": {
             "endlinecolor": "#2a3f5f",
             "gridcolor": "white",
             "linecolor": "white",
             "minorgridcolor": "white",
             "startlinecolor": "#2a3f5f"
            },
            "baxis": {
             "endlinecolor": "#2a3f5f",
             "gridcolor": "white",
             "linecolor": "white",
             "minorgridcolor": "white",
             "startlinecolor": "#2a3f5f"
            },
            "type": "carpet"
           }
          ],
          "choropleth": [
           {
            "colorbar": {
             "outlinewidth": 0,
             "ticks": ""
            },
            "type": "choropleth"
           }
          ],
          "contour": [
           {
            "colorbar": {
             "outlinewidth": 0,
             "ticks": ""
            },
            "colorscale": [
             [
              0,
              "#0d0887"
             ],
             [
              0.1111111111111111,
              "#46039f"
             ],
             [
              0.2222222222222222,
              "#7201a8"
             ],
             [
              0.3333333333333333,
              "#9c179e"
             ],
             [
              0.4444444444444444,
              "#bd3786"
             ],
             [
              0.5555555555555556,
              "#d8576b"
             ],
             [
              0.6666666666666666,
              "#ed7953"
             ],
             [
              0.7777777777777778,
              "#fb9f3a"
             ],
             [
              0.8888888888888888,
              "#fdca26"
             ],
             [
              1,
              "#f0f921"
             ]
            ],
            "type": "contour"
           }
          ],
          "contourcarpet": [
           {
            "colorbar": {
             "outlinewidth": 0,
             "ticks": ""
            },
            "type": "contourcarpet"
           }
          ],
          "heatmap": [
           {
            "colorbar": {
             "outlinewidth": 0,
             "ticks": ""
            },
            "colorscale": [
             [
              0,
              "#0d0887"
             ],
             [
              0.1111111111111111,
              "#46039f"
             ],
             [
              0.2222222222222222,
              "#7201a8"
             ],
             [
              0.3333333333333333,
              "#9c179e"
             ],
             [
              0.4444444444444444,
              "#bd3786"
             ],
             [
              0.5555555555555556,
              "#d8576b"
             ],
             [
              0.6666666666666666,
              "#ed7953"
             ],
             [
              0.7777777777777778,
              "#fb9f3a"
             ],
             [
              0.8888888888888888,
              "#fdca26"
             ],
             [
              1,
              "#f0f921"
             ]
            ],
            "type": "heatmap"
           }
          ],
          "heatmapgl": [
           {
            "colorbar": {
             "outlinewidth": 0,
             "ticks": ""
            },
            "colorscale": [
             [
              0,
              "#0d0887"
             ],
             [
              0.1111111111111111,
              "#46039f"
             ],
             [
              0.2222222222222222,
              "#7201a8"
             ],
             [
              0.3333333333333333,
              "#9c179e"
             ],
             [
              0.4444444444444444,
              "#bd3786"
             ],
             [
              0.5555555555555556,
              "#d8576b"
             ],
             [
              0.6666666666666666,
              "#ed7953"
             ],
             [
              0.7777777777777778,
              "#fb9f3a"
             ],
             [
              0.8888888888888888,
              "#fdca26"
             ],
             [
              1,
              "#f0f921"
             ]
            ],
            "type": "heatmapgl"
           }
          ],
          "histogram": [
           {
            "marker": {
             "pattern": {
              "fillmode": "overlay",
              "size": 10,
              "solidity": 0.2
             }
            },
            "type": "histogram"
           }
          ],
          "histogram2d": [
           {
            "colorbar": {
             "outlinewidth": 0,
             "ticks": ""
            },
            "colorscale": [
             [
              0,
              "#0d0887"
             ],
             [
              0.1111111111111111,
              "#46039f"
             ],
             [
              0.2222222222222222,
              "#7201a8"
             ],
             [
              0.3333333333333333,
              "#9c179e"
             ],
             [
              0.4444444444444444,
              "#bd3786"
             ],
             [
              0.5555555555555556,
              "#d8576b"
             ],
             [
              0.6666666666666666,
              "#ed7953"
             ],
             [
              0.7777777777777778,
              "#fb9f3a"
             ],
             [
              0.8888888888888888,
              "#fdca26"
             ],
             [
              1,
              "#f0f921"
             ]
            ],
            "type": "histogram2d"
           }
          ],
          "histogram2dcontour": [
           {
            "colorbar": {
             "outlinewidth": 0,
             "ticks": ""
            },
            "colorscale": [
             [
              0,
              "#0d0887"
             ],
             [
              0.1111111111111111,
              "#46039f"
             ],
             [
              0.2222222222222222,
              "#7201a8"
             ],
             [
              0.3333333333333333,
              "#9c179e"
             ],
             [
              0.4444444444444444,
              "#bd3786"
             ],
             [
              0.5555555555555556,
              "#d8576b"
             ],
             [
              0.6666666666666666,
              "#ed7953"
             ],
             [
              0.7777777777777778,
              "#fb9f3a"
             ],
             [
              0.8888888888888888,
              "#fdca26"
             ],
             [
              1,
              "#f0f921"
             ]
            ],
            "type": "histogram2dcontour"
           }
          ],
          "mesh3d": [
           {
            "colorbar": {
             "outlinewidth": 0,
             "ticks": ""
            },
            "type": "mesh3d"
           }
          ],
          "parcoords": [
           {
            "line": {
             "colorbar": {
              "outlinewidth": 0,
              "ticks": ""
             }
            },
            "type": "parcoords"
           }
          ],
          "pie": [
           {
            "automargin": true,
            "type": "pie"
           }
          ],
          "scatter": [
           {
            "fillpattern": {
             "fillmode": "overlay",
             "size": 10,
             "solidity": 0.2
            },
            "type": "scatter"
           }
          ],
          "scatter3d": [
           {
            "line": {
             "colorbar": {
              "outlinewidth": 0,
              "ticks": ""
             }
            },
            "marker": {
             "colorbar": {
              "outlinewidth": 0,
              "ticks": ""
             }
            },
            "type": "scatter3d"
           }
          ],
          "scattercarpet": [
           {
            "marker": {
             "colorbar": {
              "outlinewidth": 0,
              "ticks": ""
             }
            },
            "type": "scattercarpet"
           }
          ],
          "scattergeo": [
           {
            "marker": {
             "colorbar": {
              "outlinewidth": 0,
              "ticks": ""
             }
            },
            "type": "scattergeo"
           }
          ],
          "scattergl": [
           {
            "marker": {
             "colorbar": {
              "outlinewidth": 0,
              "ticks": ""
             }
            },
            "type": "scattergl"
           }
          ],
          "scattermapbox": [
           {
            "marker": {
             "colorbar": {
              "outlinewidth": 0,
              "ticks": ""
             }
            },
            "type": "scattermapbox"
           }
          ],
          "scatterpolar": [
           {
            "marker": {
             "colorbar": {
              "outlinewidth": 0,
              "ticks": ""
             }
            },
            "type": "scatterpolar"
           }
          ],
          "scatterpolargl": [
           {
            "marker": {
             "colorbar": {
              "outlinewidth": 0,
              "ticks": ""
             }
            },
            "type": "scatterpolargl"
           }
          ],
          "scatterternary": [
           {
            "marker": {
             "colorbar": {
              "outlinewidth": 0,
              "ticks": ""
             }
            },
            "type": "scatterternary"
           }
          ],
          "surface": [
           {
            "colorbar": {
             "outlinewidth": 0,
             "ticks": ""
            },
            "colorscale": [
             [
              0,
              "#0d0887"
             ],
             [
              0.1111111111111111,
              "#46039f"
             ],
             [
              0.2222222222222222,
              "#7201a8"
             ],
             [
              0.3333333333333333,
              "#9c179e"
             ],
             [
              0.4444444444444444,
              "#bd3786"
             ],
             [
              0.5555555555555556,
              "#d8576b"
             ],
             [
              0.6666666666666666,
              "#ed7953"
             ],
             [
              0.7777777777777778,
              "#fb9f3a"
             ],
             [
              0.8888888888888888,
              "#fdca26"
             ],
             [
              1,
              "#f0f921"
             ]
            ],
            "type": "surface"
           }
          ],
          "table": [
           {
            "cells": {
             "fill": {
              "color": "#EBF0F8"
             },
             "line": {
              "color": "white"
             }
            },
            "header": {
             "fill": {
              "color": "#C8D4E3"
             },
             "line": {
              "color": "white"
             }
            },
            "type": "table"
           }
          ]
         },
         "layout": {
          "annotationdefaults": {
           "arrowcolor": "#2a3f5f",
           "arrowhead": 0,
           "arrowwidth": 1
          },
          "autotypenumbers": "strict",
          "coloraxis": {
           "colorbar": {
            "outlinewidth": 0,
            "ticks": ""
           }
          },
          "colorscale": {
           "diverging": [
            [
             0,
             "#8e0152"
            ],
            [
             0.1,
             "#c51b7d"
            ],
            [
             0.2,
             "#de77ae"
            ],
            [
             0.3,
             "#f1b6da"
            ],
            [
             0.4,
             "#fde0ef"
            ],
            [
             0.5,
             "#f7f7f7"
            ],
            [
             0.6,
             "#e6f5d0"
            ],
            [
             0.7,
             "#b8e186"
            ],
            [
             0.8,
             "#7fbc41"
            ],
            [
             0.9,
             "#4d9221"
            ],
            [
             1,
             "#276419"
            ]
           ],
           "sequential": [
            [
             0,
             "#0d0887"
            ],
            [
             0.1111111111111111,
             "#46039f"
            ],
            [
             0.2222222222222222,
             "#7201a8"
            ],
            [
             0.3333333333333333,
             "#9c179e"
            ],
            [
             0.4444444444444444,
             "#bd3786"
            ],
            [
             0.5555555555555556,
             "#d8576b"
            ],
            [
             0.6666666666666666,
             "#ed7953"
            ],
            [
             0.7777777777777778,
             "#fb9f3a"
            ],
            [
             0.8888888888888888,
             "#fdca26"
            ],
            [
             1,
             "#f0f921"
            ]
           ],
           "sequentialminus": [
            [
             0,
             "#0d0887"
            ],
            [
             0.1111111111111111,
             "#46039f"
            ],
            [
             0.2222222222222222,
             "#7201a8"
            ],
            [
             0.3333333333333333,
             "#9c179e"
            ],
            [
             0.4444444444444444,
             "#bd3786"
            ],
            [
             0.5555555555555556,
             "#d8576b"
            ],
            [
             0.6666666666666666,
             "#ed7953"
            ],
            [
             0.7777777777777778,
             "#fb9f3a"
            ],
            [
             0.8888888888888888,
             "#fdca26"
            ],
            [
             1,
             "#f0f921"
            ]
           ]
          },
          "colorway": [
           "#636efa",
           "#EF553B",
           "#00cc96",
           "#ab63fa",
           "#FFA15A",
           "#19d3f3",
           "#FF6692",
           "#B6E880",
           "#FF97FF",
           "#FECB52"
          ],
          "font": {
           "color": "#2a3f5f"
          },
          "geo": {
           "bgcolor": "white",
           "lakecolor": "white",
           "landcolor": "#E5ECF6",
           "showlakes": true,
           "showland": true,
           "subunitcolor": "white"
          },
          "hoverlabel": {
           "align": "left"
          },
          "hovermode": "closest",
          "mapbox": {
           "style": "light"
          },
          "paper_bgcolor": "white",
          "plot_bgcolor": "#E5ECF6",
          "polar": {
           "angularaxis": {
            "gridcolor": "white",
            "linecolor": "white",
            "ticks": ""
           },
           "bgcolor": "#E5ECF6",
           "radialaxis": {
            "gridcolor": "white",
            "linecolor": "white",
            "ticks": ""
           }
          },
          "scene": {
           "xaxis": {
            "backgroundcolor": "#E5ECF6",
            "gridcolor": "white",
            "gridwidth": 2,
            "linecolor": "white",
            "showbackground": true,
            "ticks": "",
            "zerolinecolor": "white"
           },
           "yaxis": {
            "backgroundcolor": "#E5ECF6",
            "gridcolor": "white",
            "gridwidth": 2,
            "linecolor": "white",
            "showbackground": true,
            "ticks": "",
            "zerolinecolor": "white"
           },
           "zaxis": {
            "backgroundcolor": "#E5ECF6",
            "gridcolor": "white",
            "gridwidth": 2,
            "linecolor": "white",
            "showbackground": true,
            "ticks": "",
            "zerolinecolor": "white"
           }
          },
          "shapedefaults": {
           "line": {
            "color": "#2a3f5f"
           }
          },
          "ternary": {
           "aaxis": {
            "gridcolor": "white",
            "linecolor": "white",
            "ticks": ""
           },
           "baxis": {
            "gridcolor": "white",
            "linecolor": "white",
            "ticks": ""
           },
           "bgcolor": "#E5ECF6",
           "caxis": {
            "gridcolor": "white",
            "linecolor": "white",
            "ticks": ""
           }
          },
          "title": {
           "x": 0.05
          },
          "xaxis": {
           "automargin": true,
           "gridcolor": "white",
           "linecolor": "white",
           "ticks": "",
           "title": {
            "standoff": 15
           },
           "zerolinecolor": "white",
           "zerolinewidth": 2
          },
          "yaxis": {
           "automargin": true,
           "gridcolor": "white",
           "linecolor": "white",
           "ticks": "",
           "title": {
            "standoff": 15
           },
           "zerolinecolor": "white",
           "zerolinewidth": 2
          }
         }
        },
        "title": {
         "text": "Rating Distribution"
        },
        "xaxis": {
         "anchor": "y",
         "domain": [
          0,
          1
         ],
         "title": {
          "text": "IMDB_Rating"
         }
        },
        "yaxis": {
         "anchor": "x",
         "domain": [
          0,
          1
         ],
         "title": {
          "text": "count"
         }
        }
       }
      }
     },
     "metadata": {},
     "output_type": "display_data"
    }
   ],
   "source": [
    "#Rating Distribution\n",
    "fig = px.histogram(df.IMDB_Rating, x=\"IMDB_Rating\", title=\"Rating Distribution\",color_discrete_sequence=[\"#deb522\"])\n",
    "fig.update_layout(bargap=0.1)\n",
    "fig.show()"
   ]
  },
  {
   "cell_type": "code",
   "execution_count": 97,
   "id": "133d8939",
   "metadata": {},
   "outputs": [
    {
     "data": {
      "application/vnd.plotly.v1+json": {
       "config": {
        "plotlyServerURL": "https://plot.ly"
       },
       "data": [
        {
         "alignmentgroup": "True",
         "bingroup": "x",
         "hovertemplate": "Meta_score=%{x}<br>count=%{y}<extra></extra>",
         "legendgroup": "",
         "marker": {
          "color": "#deb522",
          "pattern": {
           "shape": ""
          }
         },
         "name": "",
         "offsetgroup": "",
         "orientation": "v",
         "showlegend": false,
         "type": "histogram",
         "x": [
          80,
          100,
          84,
          90,
          96,
          94,
          94,
          94,
          74,
          66,
          92,
          82,
          90,
          87,
          73,
          90,
          82,
          83,
          90,
          96,
          79,
          74,
          79,
          96,
          91,
          61,
          59,
          65,
          85,
          90,
          85,
          98,
          89,
          59,
          88,
          57,
          66,
          85,
          85,
          67,
          62,
          77,
          64,
          88,
          75,
          80,
          94,
          87,
          80,
          97,
          100,
          96,
          99,
          75,
          79,
          79,
          79,
          79,
          87,
          78,
          68,
          81,
          81,
          78,
          67,
          79,
          95,
          89,
          77,
          80,
          76,
          79,
          85,
          66,
          94,
          89,
          79,
          79,
          97,
          79,
          90,
          100,
          79,
          79,
          78,
          79,
          79,
          79,
          77,
          95,
          80,
          79,
          79,
          69,
          89,
          69,
          55,
          68,
          84,
          70,
          77,
          95,
          68,
          79,
          76,
          79,
          84,
          88,
          65,
          58,
          86,
          94,
          83,
          77,
          84,
          74,
          100,
          94,
          98,
          100,
          99,
          79,
          79,
          95,
          100,
          79,
          98,
          79,
          79,
          79,
          79,
          69,
          88,
          79,
          79,
          65,
          79,
          79,
          73,
          79,
          89,
          79,
          79,
          80,
          71,
          63,
          88,
          75,
          68,
          93,
          98,
          92,
          62,
          79,
          79,
          70,
          79,
          82,
          80,
          72,
          79,
          66,
          90,
          79,
          76,
          73,
          79,
          85,
          65,
          79,
          86,
          72,
          96,
          89,
          79,
          79,
          79,
          79,
          91,
          86,
          88,
          79,
          60,
          98,
          88,
          88,
          97,
          75,
          79,
          98,
          98,
          98,
          86,
          79,
          79,
          95,
          79,
          78,
          79,
          84,
          74,
          79,
          77,
          86,
          77,
          83,
          88,
          79,
          79,
          88,
          79,
          71,
          71,
          94,
          79,
          96,
          74,
          81,
          93,
          85,
          79,
          79,
          70,
          90,
          79,
          72,
          85,
          68,
          79,
          79,
          75,
          73,
          91,
          79,
          86,
          79,
          64,
          90,
          79,
          82,
          79,
          69,
          90,
          75,
          83,
          79,
          79,
          84,
          64,
          58,
          90,
          73,
          71,
          85,
          83,
          85,
          79,
          79,
          79,
          77,
          100,
          77,
          68,
          84,
          79,
          79,
          79,
          75,
          92,
          78,
          86,
          57,
          47,
          79,
          100,
          84,
          78,
          77,
          86,
          70,
          83,
          89,
          79,
          92,
          77,
          79,
          90,
          79,
          92,
          86,
          79,
          96,
          79,
          75,
          79,
          94,
          79,
          79,
          75,
          79,
          90,
          79,
          79,
          79,
          87,
          91,
          85,
          72,
          79,
          97,
          79,
          96,
          86,
          73,
          97,
          79,
          87,
          79,
          90,
          79,
          79,
          79,
          79,
          69,
          79,
          79,
          79,
          94,
          69,
          80,
          78,
          79,
          89,
          66,
          65,
          79,
          82,
          71,
          73,
          76,
          81,
          90,
          49,
          76,
          67,
          71,
          88,
          62,
          65,
          87,
          79,
          59,
          50,
          79,
          84,
          79,
          33,
          69,
          90,
          80,
          64,
          64,
          85,
          72,
          74,
          92,
          79,
          96,
          80,
          83,
          82,
          85,
          74,
          69,
          54,
          75,
          63,
          58,
          90,
          79,
          60,
          79,
          88,
          77,
          61,
          86,
          79,
          82,
          80,
          85,
          79,
          84,
          91,
          74,
          76,
          82,
          72,
          47,
          59,
          86,
          72,
          95,
          72,
          93,
          65,
          79,
          77,
          79,
          88,
          78,
          84,
          79,
          84,
          83,
          92,
          87,
          86,
          80,
          58,
          81,
          79,
          93,
          67,
          100,
          66,
          96,
          79,
          83,
          75,
          63,
          69,
          65,
          91,
          79,
          90,
          95,
          93,
          95,
          99,
          84,
          100,
          91,
          99,
          79,
          79,
          84,
          78,
          97,
          79,
          79,
          73,
          79,
          92,
          79,
          93,
          79,
          96,
          96,
          92,
          79,
          86,
          91,
          97,
          82,
          79,
          93,
          94,
          93,
          78,
          82,
          81,
          72,
          79,
          74,
          76,
          58,
          81,
          80,
          94,
          75,
          82,
          89,
          71,
          94,
          94,
          90,
          67,
          82,
          81,
          80,
          79,
          100,
          97,
          82,
          67,
          79,
          89,
          64,
          79,
          83,
          81,
          56,
          79,
          76,
          78,
          84,
          82,
          85,
          86,
          84,
          61,
          68,
          80,
          84,
          90,
          85,
          88,
          85,
          75,
          77,
          59,
          85,
          79,
          65,
          74,
          97,
          77,
          79,
          90,
          84,
          92,
          77,
          60,
          83,
          72,
          71,
          84,
          76,
          79,
          93,
          79,
          62,
          91,
          97,
          89,
          79,
          75,
          83,
          94,
          87,
          79,
          79,
          79,
          94,
          72,
          89,
          88,
          79,
          88,
          100,
          79,
          79,
          96,
          79,
          97,
          79,
          90,
          80,
          79,
          51,
          79,
          81,
          85,
          94,
          79,
          74,
          88,
          79,
          84,
          79,
          96,
          75,
          65,
          75,
          68,
          91,
          62,
          79,
          85,
          86,
          76,
          79,
          74,
          55,
          79,
          83,
          84,
          49,
          84,
          76,
          81,
          79,
          67,
          71,
          82,
          79,
          72,
          79,
          64,
          66,
          82,
          76,
          77,
          81,
          79,
          51,
          55,
          88,
          58,
          85,
          85,
          78,
          76,
          83,
          63,
          68,
          80,
          81,
          70,
          67,
          51,
          82,
          68,
          73,
          74,
          72,
          61,
          53,
          75,
          82,
          91,
          58,
          61,
          83,
          48,
          94,
          87,
          73,
          44,
          84,
          71,
          84,
          75,
          79,
          64,
          61,
          76,
          70,
          73,
          50,
          55,
          84,
          84,
          87,
          80,
          79,
          79,
          68,
          86,
          76,
          75,
          74,
          83,
          78,
          82,
          57,
          65,
          45,
          72,
          61,
          75,
          62,
          78,
          66,
          76,
          71,
          91,
          73,
          91,
          77,
          93,
          69,
          91,
          85,
          73,
          80,
          93,
          80,
          67,
          79,
          81,
          63,
          86,
          95,
          88,
          75,
          97,
          88,
          79,
          79,
          79,
          79,
          94,
          93,
          98,
          91,
          95,
          93,
          87,
          91,
          96,
          85,
          66,
          73,
          85,
          86,
          70,
          76,
          72,
          72,
          60,
          69,
          74,
          87,
          89,
          40,
          70,
          70,
          79,
          87,
          72,
          70,
          52,
          81,
          83,
          96,
          72,
          79,
          95,
          65,
          73,
          81,
          81,
          86,
          76,
          65,
          86,
          80,
          81,
          63,
          45,
          79,
          79,
          86,
          78,
          78,
          74,
          78,
          53,
          70,
          78,
          71,
          71,
          87,
          76,
          66,
          78,
          73,
          61,
          73,
          89,
          81,
          47,
          80,
          55,
          83,
          68,
          76,
          28,
          83,
          74,
          72,
          60,
          74,
          85,
          74,
          62,
          69,
          79,
          73,
          68,
          81,
          69,
          86,
          79,
          90,
          67,
          52,
          73,
          76,
          87,
          47,
          79,
          83,
          71,
          81,
          70,
          79,
          66,
          64,
          73,
          76,
          83,
          82,
          62,
          64,
          69,
          66,
          83,
          79,
          84,
          76,
          62,
          54,
          76,
          75,
          90,
          79,
          77,
          67,
          61,
          86,
          78,
          71,
          87,
          71,
          89,
          68,
          73,
          87,
          83,
          80,
          94,
          90,
          63,
          86,
          73,
          79,
          72,
          91,
          77,
          87,
          90,
          76,
          79,
          74,
          90,
          92,
          89,
          91,
          72,
          79,
          79,
          91,
          79,
          96,
          87,
          73,
          71,
          83,
          86,
          92,
          68,
          60,
          70,
          77,
          83,
          67,
          86,
          72,
          81,
          80,
          81,
          82,
          82,
          92,
          88,
          77,
          79,
          79,
          73,
          68,
          80,
          88,
          80,
          65,
          72,
          72,
          66,
          79,
          87,
          70,
          73,
          79,
          57,
          53,
          79,
          36,
          82,
          66,
          81,
          76,
          72,
          66,
          70,
          68,
          52,
          78,
          52,
          72,
          56,
          62,
          46,
          67,
          73,
          45,
          76,
          81,
          70,
          56,
          67,
          68,
          30,
          73,
          81,
          76,
          88,
          64,
          74,
          52,
          53,
          80,
          74,
          64,
          77,
          78,
          71,
          41,
          69,
          66,
          49,
          52,
          84,
          58,
          62,
          69,
          77,
          88,
          56,
          78,
          68,
          90,
          66,
          63,
          60,
          76,
          88,
          76,
          72,
          68,
          82,
          68,
          77,
          65,
          74,
          76,
          64,
          59,
          90,
          87,
          77,
          50,
          65,
          82,
          96,
          76,
          84,
          85,
          78,
          93
         ],
         "xaxis": "x",
         "yaxis": "y"
        }
       ],
       "layout": {
        "bargap": 0.1,
        "barmode": "relative",
        "legend": {
         "tracegroupgap": 0
        },
        "template": {
         "data": {
          "bar": [
           {
            "error_x": {
             "color": "#2a3f5f"
            },
            "error_y": {
             "color": "#2a3f5f"
            },
            "marker": {
             "line": {
              "color": "#E5ECF6",
              "width": 0.5
             },
             "pattern": {
              "fillmode": "overlay",
              "size": 10,
              "solidity": 0.2
             }
            },
            "type": "bar"
           }
          ],
          "barpolar": [
           {
            "marker": {
             "line": {
              "color": "#E5ECF6",
              "width": 0.5
             },
             "pattern": {
              "fillmode": "overlay",
              "size": 10,
              "solidity": 0.2
             }
            },
            "type": "barpolar"
           }
          ],
          "carpet": [
           {
            "aaxis": {
             "endlinecolor": "#2a3f5f",
             "gridcolor": "white",
             "linecolor": "white",
             "minorgridcolor": "white",
             "startlinecolor": "#2a3f5f"
            },
            "baxis": {
             "endlinecolor": "#2a3f5f",
             "gridcolor": "white",
             "linecolor": "white",
             "minorgridcolor": "white",
             "startlinecolor": "#2a3f5f"
            },
            "type": "carpet"
           }
          ],
          "choropleth": [
           {
            "colorbar": {
             "outlinewidth": 0,
             "ticks": ""
            },
            "type": "choropleth"
           }
          ],
          "contour": [
           {
            "colorbar": {
             "outlinewidth": 0,
             "ticks": ""
            },
            "colorscale": [
             [
              0,
              "#0d0887"
             ],
             [
              0.1111111111111111,
              "#46039f"
             ],
             [
              0.2222222222222222,
              "#7201a8"
             ],
             [
              0.3333333333333333,
              "#9c179e"
             ],
             [
              0.4444444444444444,
              "#bd3786"
             ],
             [
              0.5555555555555556,
              "#d8576b"
             ],
             [
              0.6666666666666666,
              "#ed7953"
             ],
             [
              0.7777777777777778,
              "#fb9f3a"
             ],
             [
              0.8888888888888888,
              "#fdca26"
             ],
             [
              1,
              "#f0f921"
             ]
            ],
            "type": "contour"
           }
          ],
          "contourcarpet": [
           {
            "colorbar": {
             "outlinewidth": 0,
             "ticks": ""
            },
            "type": "contourcarpet"
           }
          ],
          "heatmap": [
           {
            "colorbar": {
             "outlinewidth": 0,
             "ticks": ""
            },
            "colorscale": [
             [
              0,
              "#0d0887"
             ],
             [
              0.1111111111111111,
              "#46039f"
             ],
             [
              0.2222222222222222,
              "#7201a8"
             ],
             [
              0.3333333333333333,
              "#9c179e"
             ],
             [
              0.4444444444444444,
              "#bd3786"
             ],
             [
              0.5555555555555556,
              "#d8576b"
             ],
             [
              0.6666666666666666,
              "#ed7953"
             ],
             [
              0.7777777777777778,
              "#fb9f3a"
             ],
             [
              0.8888888888888888,
              "#fdca26"
             ],
             [
              1,
              "#f0f921"
             ]
            ],
            "type": "heatmap"
           }
          ],
          "heatmapgl": [
           {
            "colorbar": {
             "outlinewidth": 0,
             "ticks": ""
            },
            "colorscale": [
             [
              0,
              "#0d0887"
             ],
             [
              0.1111111111111111,
              "#46039f"
             ],
             [
              0.2222222222222222,
              "#7201a8"
             ],
             [
              0.3333333333333333,
              "#9c179e"
             ],
             [
              0.4444444444444444,
              "#bd3786"
             ],
             [
              0.5555555555555556,
              "#d8576b"
             ],
             [
              0.6666666666666666,
              "#ed7953"
             ],
             [
              0.7777777777777778,
              "#fb9f3a"
             ],
             [
              0.8888888888888888,
              "#fdca26"
             ],
             [
              1,
              "#f0f921"
             ]
            ],
            "type": "heatmapgl"
           }
          ],
          "histogram": [
           {
            "marker": {
             "pattern": {
              "fillmode": "overlay",
              "size": 10,
              "solidity": 0.2
             }
            },
            "type": "histogram"
           }
          ],
          "histogram2d": [
           {
            "colorbar": {
             "outlinewidth": 0,
             "ticks": ""
            },
            "colorscale": [
             [
              0,
              "#0d0887"
             ],
             [
              0.1111111111111111,
              "#46039f"
             ],
             [
              0.2222222222222222,
              "#7201a8"
             ],
             [
              0.3333333333333333,
              "#9c179e"
             ],
             [
              0.4444444444444444,
              "#bd3786"
             ],
             [
              0.5555555555555556,
              "#d8576b"
             ],
             [
              0.6666666666666666,
              "#ed7953"
             ],
             [
              0.7777777777777778,
              "#fb9f3a"
             ],
             [
              0.8888888888888888,
              "#fdca26"
             ],
             [
              1,
              "#f0f921"
             ]
            ],
            "type": "histogram2d"
           }
          ],
          "histogram2dcontour": [
           {
            "colorbar": {
             "outlinewidth": 0,
             "ticks": ""
            },
            "colorscale": [
             [
              0,
              "#0d0887"
             ],
             [
              0.1111111111111111,
              "#46039f"
             ],
             [
              0.2222222222222222,
              "#7201a8"
             ],
             [
              0.3333333333333333,
              "#9c179e"
             ],
             [
              0.4444444444444444,
              "#bd3786"
             ],
             [
              0.5555555555555556,
              "#d8576b"
             ],
             [
              0.6666666666666666,
              "#ed7953"
             ],
             [
              0.7777777777777778,
              "#fb9f3a"
             ],
             [
              0.8888888888888888,
              "#fdca26"
             ],
             [
              1,
              "#f0f921"
             ]
            ],
            "type": "histogram2dcontour"
           }
          ],
          "mesh3d": [
           {
            "colorbar": {
             "outlinewidth": 0,
             "ticks": ""
            },
            "type": "mesh3d"
           }
          ],
          "parcoords": [
           {
            "line": {
             "colorbar": {
              "outlinewidth": 0,
              "ticks": ""
             }
            },
            "type": "parcoords"
           }
          ],
          "pie": [
           {
            "automargin": true,
            "type": "pie"
           }
          ],
          "scatter": [
           {
            "fillpattern": {
             "fillmode": "overlay",
             "size": 10,
             "solidity": 0.2
            },
            "type": "scatter"
           }
          ],
          "scatter3d": [
           {
            "line": {
             "colorbar": {
              "outlinewidth": 0,
              "ticks": ""
             }
            },
            "marker": {
             "colorbar": {
              "outlinewidth": 0,
              "ticks": ""
             }
            },
            "type": "scatter3d"
           }
          ],
          "scattercarpet": [
           {
            "marker": {
             "colorbar": {
              "outlinewidth": 0,
              "ticks": ""
             }
            },
            "type": "scattercarpet"
           }
          ],
          "scattergeo": [
           {
            "marker": {
             "colorbar": {
              "outlinewidth": 0,
              "ticks": ""
             }
            },
            "type": "scattergeo"
           }
          ],
          "scattergl": [
           {
            "marker": {
             "colorbar": {
              "outlinewidth": 0,
              "ticks": ""
             }
            },
            "type": "scattergl"
           }
          ],
          "scattermapbox": [
           {
            "marker": {
             "colorbar": {
              "outlinewidth": 0,
              "ticks": ""
             }
            },
            "type": "scattermapbox"
           }
          ],
          "scatterpolar": [
           {
            "marker": {
             "colorbar": {
              "outlinewidth": 0,
              "ticks": ""
             }
            },
            "type": "scatterpolar"
           }
          ],
          "scatterpolargl": [
           {
            "marker": {
             "colorbar": {
              "outlinewidth": 0,
              "ticks": ""
             }
            },
            "type": "scatterpolargl"
           }
          ],
          "scatterternary": [
           {
            "marker": {
             "colorbar": {
              "outlinewidth": 0,
              "ticks": ""
             }
            },
            "type": "scatterternary"
           }
          ],
          "surface": [
           {
            "colorbar": {
             "outlinewidth": 0,
             "ticks": ""
            },
            "colorscale": [
             [
              0,
              "#0d0887"
             ],
             [
              0.1111111111111111,
              "#46039f"
             ],
             [
              0.2222222222222222,
              "#7201a8"
             ],
             [
              0.3333333333333333,
              "#9c179e"
             ],
             [
              0.4444444444444444,
              "#bd3786"
             ],
             [
              0.5555555555555556,
              "#d8576b"
             ],
             [
              0.6666666666666666,
              "#ed7953"
             ],
             [
              0.7777777777777778,
              "#fb9f3a"
             ],
             [
              0.8888888888888888,
              "#fdca26"
             ],
             [
              1,
              "#f0f921"
             ]
            ],
            "type": "surface"
           }
          ],
          "table": [
           {
            "cells": {
             "fill": {
              "color": "#EBF0F8"
             },
             "line": {
              "color": "white"
             }
            },
            "header": {
             "fill": {
              "color": "#C8D4E3"
             },
             "line": {
              "color": "white"
             }
            },
            "type": "table"
           }
          ]
         },
         "layout": {
          "annotationdefaults": {
           "arrowcolor": "#2a3f5f",
           "arrowhead": 0,
           "arrowwidth": 1
          },
          "autotypenumbers": "strict",
          "coloraxis": {
           "colorbar": {
            "outlinewidth": 0,
            "ticks": ""
           }
          },
          "colorscale": {
           "diverging": [
            [
             0,
             "#8e0152"
            ],
            [
             0.1,
             "#c51b7d"
            ],
            [
             0.2,
             "#de77ae"
            ],
            [
             0.3,
             "#f1b6da"
            ],
            [
             0.4,
             "#fde0ef"
            ],
            [
             0.5,
             "#f7f7f7"
            ],
            [
             0.6,
             "#e6f5d0"
            ],
            [
             0.7,
             "#b8e186"
            ],
            [
             0.8,
             "#7fbc41"
            ],
            [
             0.9,
             "#4d9221"
            ],
            [
             1,
             "#276419"
            ]
           ],
           "sequential": [
            [
             0,
             "#0d0887"
            ],
            [
             0.1111111111111111,
             "#46039f"
            ],
            [
             0.2222222222222222,
             "#7201a8"
            ],
            [
             0.3333333333333333,
             "#9c179e"
            ],
            [
             0.4444444444444444,
             "#bd3786"
            ],
            [
             0.5555555555555556,
             "#d8576b"
            ],
            [
             0.6666666666666666,
             "#ed7953"
            ],
            [
             0.7777777777777778,
             "#fb9f3a"
            ],
            [
             0.8888888888888888,
             "#fdca26"
            ],
            [
             1,
             "#f0f921"
            ]
           ],
           "sequentialminus": [
            [
             0,
             "#0d0887"
            ],
            [
             0.1111111111111111,
             "#46039f"
            ],
            [
             0.2222222222222222,
             "#7201a8"
            ],
            [
             0.3333333333333333,
             "#9c179e"
            ],
            [
             0.4444444444444444,
             "#bd3786"
            ],
            [
             0.5555555555555556,
             "#d8576b"
            ],
            [
             0.6666666666666666,
             "#ed7953"
            ],
            [
             0.7777777777777778,
             "#fb9f3a"
            ],
            [
             0.8888888888888888,
             "#fdca26"
            ],
            [
             1,
             "#f0f921"
            ]
           ]
          },
          "colorway": [
           "#636efa",
           "#EF553B",
           "#00cc96",
           "#ab63fa",
           "#FFA15A",
           "#19d3f3",
           "#FF6692",
           "#B6E880",
           "#FF97FF",
           "#FECB52"
          ],
          "font": {
           "color": "#2a3f5f"
          },
          "geo": {
           "bgcolor": "white",
           "lakecolor": "white",
           "landcolor": "#E5ECF6",
           "showlakes": true,
           "showland": true,
           "subunitcolor": "white"
          },
          "hoverlabel": {
           "align": "left"
          },
          "hovermode": "closest",
          "mapbox": {
           "style": "light"
          },
          "paper_bgcolor": "white",
          "plot_bgcolor": "#E5ECF6",
          "polar": {
           "angularaxis": {
            "gridcolor": "white",
            "linecolor": "white",
            "ticks": ""
           },
           "bgcolor": "#E5ECF6",
           "radialaxis": {
            "gridcolor": "white",
            "linecolor": "white",
            "ticks": ""
           }
          },
          "scene": {
           "xaxis": {
            "backgroundcolor": "#E5ECF6",
            "gridcolor": "white",
            "gridwidth": 2,
            "linecolor": "white",
            "showbackground": true,
            "ticks": "",
            "zerolinecolor": "white"
           },
           "yaxis": {
            "backgroundcolor": "#E5ECF6",
            "gridcolor": "white",
            "gridwidth": 2,
            "linecolor": "white",
            "showbackground": true,
            "ticks": "",
            "zerolinecolor": "white"
           },
           "zaxis": {
            "backgroundcolor": "#E5ECF6",
            "gridcolor": "white",
            "gridwidth": 2,
            "linecolor": "white",
            "showbackground": true,
            "ticks": "",
            "zerolinecolor": "white"
           }
          },
          "shapedefaults": {
           "line": {
            "color": "#2a3f5f"
           }
          },
          "ternary": {
           "aaxis": {
            "gridcolor": "white",
            "linecolor": "white",
            "ticks": ""
           },
           "baxis": {
            "gridcolor": "white",
            "linecolor": "white",
            "ticks": ""
           },
           "bgcolor": "#E5ECF6",
           "caxis": {
            "gridcolor": "white",
            "linecolor": "white",
            "ticks": ""
           }
          },
          "title": {
           "x": 0.05
          },
          "xaxis": {
           "automargin": true,
           "gridcolor": "white",
           "linecolor": "white",
           "ticks": "",
           "title": {
            "standoff": 15
           },
           "zerolinecolor": "white",
           "zerolinewidth": 2
          },
          "yaxis": {
           "automargin": true,
           "gridcolor": "white",
           "linecolor": "white",
           "ticks": "",
           "title": {
            "standoff": 15
           },
           "zerolinecolor": "white",
           "zerolinewidth": 2
          }
         }
        },
        "title": {
         "text": "Meta Score Distribution"
        },
        "xaxis": {
         "anchor": "y",
         "domain": [
          0,
          1
         ],
         "title": {
          "text": "Meta_score"
         }
        },
        "yaxis": {
         "anchor": "x",
         "domain": [
          0,
          1
         ],
         "title": {
          "text": "count"
         }
        }
       }
      }
     },
     "metadata": {},
     "output_type": "display_data"
    }
   ],
   "source": [
    "#Meta Score Distribution\n",
    "fig = px.histogram(df.Meta_score, x=\"Meta_score\", title=\"Meta Score Distribution\",color_discrete_sequence=[\"#deb522\"])\n",
    "fig.update_layout(bargap=0.1)\n",
    "fig.show()"
   ]
  },
  {
   "cell_type": "code",
   "execution_count": 98,
   "id": "e5443b24",
   "metadata": {},
   "outputs": [
    {
     "name": "stdout",
     "output_type": "stream",
     "text": [
      "Total unique genres are 21\n",
      "Occurances of unique genres :\n"
     ]
    },
    {
     "name": "stderr",
     "output_type": "stream",
     "text": [
      "C:\\Users\\Administrator\\AppData\\Local\\Temp\\ipykernel_16220\\2875770589.py:2: SettingWithCopyWarning:\n",
      "\n",
      "\n",
      "A value is trying to be set on a copy of a slice from a DataFrame.\n",
      "Try using .loc[row_indexer,col_indexer] = value instead\n",
      "\n",
      "See the caveats in the documentation: https://pandas.pydata.org/pandas-docs/stable/user_guide/indexing.html#returning-a-view-versus-a-copy\n",
      "\n"
     ]
    },
    {
     "data": {
      "text/html": [
       "<style type=\"text/css\">\n",
       "#T_34ca7_row0_col0, #T_34ca7_row0_col1, #T_34ca7_row0_col2, #T_34ca7_row0_col3, #T_34ca7_row0_col4, #T_34ca7_row0_col5, #T_34ca7_row0_col6, #T_34ca7_row0_col7, #T_34ca7_row0_col8, #T_34ca7_row0_col9, #T_34ca7_row0_col10, #T_34ca7_row0_col11, #T_34ca7_row0_col12, #T_34ca7_row0_col13, #T_34ca7_row0_col14, #T_34ca7_row0_col15, #T_34ca7_row0_col16, #T_34ca7_row0_col17, #T_34ca7_row0_col18, #T_34ca7_row0_col19, #T_34ca7_row0_col20 {\n",
       "  background-color: #deb522;\n",
       "  color: white;\n",
       "  border: 1.5px  solid black;\n",
       "}\n",
       "</style>\n",
       "<table id=\"T_34ca7\">\n",
       "  <thead>\n",
       "    <tr>\n",
       "      <th class=\"index_name level0\" >Genre</th>\n",
       "      <th id=\"T_34ca7_level0_col0\" class=\"col_heading level0 col0\" >Drama</th>\n",
       "      <th id=\"T_34ca7_level0_col1\" class=\"col_heading level0 col1\" >Comedy</th>\n",
       "      <th id=\"T_34ca7_level0_col2\" class=\"col_heading level0 col2\" >Crime</th>\n",
       "      <th id=\"T_34ca7_level0_col3\" class=\"col_heading level0 col3\" >Adventure</th>\n",
       "      <th id=\"T_34ca7_level0_col4\" class=\"col_heading level0 col4\" >Action</th>\n",
       "      <th id=\"T_34ca7_level0_col5\" class=\"col_heading level0 col5\" >Thriller</th>\n",
       "      <th id=\"T_34ca7_level0_col6\" class=\"col_heading level0 col6\" >Romance</th>\n",
       "      <th id=\"T_34ca7_level0_col7\" class=\"col_heading level0 col7\" >Biography</th>\n",
       "      <th id=\"T_34ca7_level0_col8\" class=\"col_heading level0 col8\" >Mystery</th>\n",
       "      <th id=\"T_34ca7_level0_col9\" class=\"col_heading level0 col9\" >Animation</th>\n",
       "      <th id=\"T_34ca7_level0_col10\" class=\"col_heading level0 col10\" >Sci-Fi</th>\n",
       "      <th id=\"T_34ca7_level0_col11\" class=\"col_heading level0 col11\" >Fantasy</th>\n",
       "      <th id=\"T_34ca7_level0_col12\" class=\"col_heading level0 col12\" >History</th>\n",
       "      <th id=\"T_34ca7_level0_col13\" class=\"col_heading level0 col13\" >Family</th>\n",
       "      <th id=\"T_34ca7_level0_col14\" class=\"col_heading level0 col14\" >War</th>\n",
       "      <th id=\"T_34ca7_level0_col15\" class=\"col_heading level0 col15\" >Music</th>\n",
       "      <th id=\"T_34ca7_level0_col16\" class=\"col_heading level0 col16\" >Horror</th>\n",
       "      <th id=\"T_34ca7_level0_col17\" class=\"col_heading level0 col17\" >Western</th>\n",
       "      <th id=\"T_34ca7_level0_col18\" class=\"col_heading level0 col18\" >Film-Noir</th>\n",
       "      <th id=\"T_34ca7_level0_col19\" class=\"col_heading level0 col19\" >Sport</th>\n",
       "      <th id=\"T_34ca7_level0_col20\" class=\"col_heading level0 col20\" >Musical</th>\n",
       "    </tr>\n",
       "  </thead>\n",
       "  <tbody>\n",
       "    <tr>\n",
       "      <th id=\"T_34ca7_level0_row0\" class=\"row_heading level0 row0\" >count</th>\n",
       "      <td id=\"T_34ca7_row0_col0\" class=\"data row0 col0\" >724</td>\n",
       "      <td id=\"T_34ca7_row0_col1\" class=\"data row0 col1\" >233</td>\n",
       "      <td id=\"T_34ca7_row0_col2\" class=\"data row0 col2\" >209</td>\n",
       "      <td id=\"T_34ca7_row0_col3\" class=\"data row0 col3\" >196</td>\n",
       "      <td id=\"T_34ca7_row0_col4\" class=\"data row0 col4\" >189</td>\n",
       "      <td id=\"T_34ca7_row0_col5\" class=\"data row0 col5\" >137</td>\n",
       "      <td id=\"T_34ca7_row0_col6\" class=\"data row0 col6\" >125</td>\n",
       "      <td id=\"T_34ca7_row0_col7\" class=\"data row0 col7\" >109</td>\n",
       "      <td id=\"T_34ca7_row0_col8\" class=\"data row0 col8\" >99</td>\n",
       "      <td id=\"T_34ca7_row0_col9\" class=\"data row0 col9\" >82</td>\n",
       "      <td id=\"T_34ca7_row0_col10\" class=\"data row0 col10\" >67</td>\n",
       "      <td id=\"T_34ca7_row0_col11\" class=\"data row0 col11\" >66</td>\n",
       "      <td id=\"T_34ca7_row0_col12\" class=\"data row0 col12\" >56</td>\n",
       "      <td id=\"T_34ca7_row0_col13\" class=\"data row0 col13\" >56</td>\n",
       "      <td id=\"T_34ca7_row0_col14\" class=\"data row0 col14\" >51</td>\n",
       "      <td id=\"T_34ca7_row0_col15\" class=\"data row0 col15\" >35</td>\n",
       "      <td id=\"T_34ca7_row0_col16\" class=\"data row0 col16\" >32</td>\n",
       "      <td id=\"T_34ca7_row0_col17\" class=\"data row0 col17\" >20</td>\n",
       "      <td id=\"T_34ca7_row0_col18\" class=\"data row0 col18\" >19</td>\n",
       "      <td id=\"T_34ca7_row0_col19\" class=\"data row0 col19\" >19</td>\n",
       "      <td id=\"T_34ca7_row0_col20\" class=\"data row0 col20\" >17</td>\n",
       "    </tr>\n",
       "  </tbody>\n",
       "</table>\n"
      ],
      "text/plain": [
       "<pandas.io.formats.style.Styler at 0x227f6c7a310>"
      ]
     },
     "execution_count": 98,
     "metadata": {},
     "output_type": "execute_result"
    }
   ],
   "source": [
    "genre = df[[\"Genre\"]]\n",
    "genre[\"Genre\"] = genre[\"Genre\"].str.split(\", | , | ,\")\n",
    "genre = genre.explode(\"Genre\")\n",
    "genre[\"Genre\"] = genre[\"Genre\"].str.title()\n",
    "\n",
    "print(f'Total unique genres are {len(genre[\"Genre\"].unique())}')\n",
    "print(f'Occurances of unique genres :')\n",
    "genre[\"Genre\"].value_counts().to_frame().T.style.set_properties(**{\"background-color\": \"#deb522\",\"color\":\"white\",\"border\": \"1.5px  solid black\"})"
   ]
  },
  {
   "cell_type": "code",
   "execution_count": 100,
   "id": "68d4cceb",
   "metadata": {},
   "outputs": [
    {
     "ename": "ModuleNotFoundError",
     "evalue": "No module named 'wordcloud'",
     "output_type": "error",
     "traceback": [
      "\u001b[1;31m---------------------------------------------------------------------------\u001b[0m",
      "\u001b[1;31mModuleNotFoundError\u001b[0m                       Traceback (most recent call last)",
      "Cell \u001b[1;32mIn[100], line 1\u001b[0m\n\u001b[1;32m----> 1\u001b[0m \u001b[38;5;28;01mfrom\u001b[39;00m \u001b[38;5;21;01mwordcloud\u001b[39;00m \u001b[38;5;28;01mimport\u001b[39;00m WordCloud\n\u001b[0;32m      2\u001b[0m \u001b[38;5;66;03m# Most Movie's Genre\u001b[39;00m\n\u001b[0;32m      3\u001b[0m \n\u001b[0;32m      4\u001b[0m \u001b[38;5;66;03m# Step 2: Preprocess the text\u001b[39;00m\n\u001b[0;32m      5\u001b[0m \u001b[38;5;66;03m# Concatenate all text in the column\u001b[39;00m\n\u001b[0;32m      6\u001b[0m text \u001b[38;5;241m=\u001b[39m \u001b[38;5;124m\"\u001b[39m\u001b[38;5;124m \u001b[39m\u001b[38;5;124m\"\u001b[39m\u001b[38;5;241m.\u001b[39mjoin(df[\u001b[38;5;124m'\u001b[39m\u001b[38;5;124mGenre\u001b[39m\u001b[38;5;124m'\u001b[39m])\n",
      "\u001b[1;31mModuleNotFoundError\u001b[0m: No module named 'wordcloud'"
     ]
    }
   ],
   "source": [
    "from wordcloud import WordCloud\n",
    "# Most Movie's Genre\n",
    "\n",
    "# Step 2: Preprocess the text\n",
    "# Concatenate all text in the column\n",
    "text = \" \".join(df['Genre'])\n",
    "\n",
    "# Step 3: Generate the word cloud\n",
    "wordcloud = WordCloud(width=800, height=400, background_color='white').generate(text)\n",
    "\n",
    "# Step 4: Display the word cloud\n",
    "plt.figure(figsize=(10, 5))\n",
    "plt.imshow(wordcloud, interpolation='bilinear')\n",
    "plt.axis('off')\n",
    "plt.show()"
   ]
  }
 ],
 "metadata": {
  "kernelspec": {
   "display_name": "Python 3 (ipykernel)",
   "language": "python",
   "name": "python3"
  },
  "language_info": {
   "codemirror_mode": {
    "name": "ipython",
    "version": 3
   },
   "file_extension": ".py",
   "mimetype": "text/x-python",
   "name": "python",
   "nbconvert_exporter": "python",
   "pygments_lexer": "ipython3",
   "version": "3.11.7"
  },
  "widgets": {
   "application/vnd.jupyter.widget-state+json": {
    "state": {},
    "version_major": 2,
    "version_minor": 0
   }
  }
 },
 "nbformat": 4,
 "nbformat_minor": 5
}
